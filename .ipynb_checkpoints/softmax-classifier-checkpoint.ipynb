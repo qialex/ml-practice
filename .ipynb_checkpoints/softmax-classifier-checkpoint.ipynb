{
 "cells": [
  {
   "cell_type": "code",
   "execution_count": 1,
   "metadata": {},
   "outputs": [],
   "source": [
    "import torch \n",
    "import torch.nn as nn\n",
    "import torchvision.transforms as transforms\n",
    "import torchvision.datasets as dsets\n",
    "import matplotlib.pylab as plt\n",
    "import numpy as np\n",
    "from random import randrange"
   ]
  },
  {
   "cell_type": "code",
   "execution_count": 2,
   "metadata": {},
   "outputs": [
    {
     "data": {
      "text/plain": [
       "<torch._C.Generator at 0x20dbefaa110>"
      ]
     },
     "execution_count": 2,
     "metadata": {},
     "output_type": "execute_result"
    }
   ],
   "source": [
    "#Set the random seed\n",
    "torch.manual_seed(0)"
   ]
  },
  {
   "cell_type": "code",
   "execution_count": 3,
   "metadata": {},
   "outputs": [
    {
     "name": "stdout",
     "output_type": "stream",
     "text": [
      "Print the training dataset:\n",
      "  Dataset MNIST\n",
      "    Number of datapoints: 60000\n",
      "    Root location: ./data\n",
      "    Split: Train\n",
      "    StandardTransform\n",
      "Transform: ToTensor()\n"
     ]
    }
   ],
   "source": [
    "# train dataset\n",
    "train_dataset = dsets.MNIST(root='./data', train=True, download=True, transform=transforms.ToTensor())\n",
    "print(\"Print the training dataset:\\n \", train_dataset)"
   ]
  },
  {
   "cell_type": "code",
   "execution_count": 4,
   "metadata": {},
   "outputs": [
    {
     "name": "stdout",
     "output_type": "stream",
     "text": [
      "Print the validation dataset: \n",
      "  Dataset MNIST\n",
      "    Number of datapoints: 10000\n",
      "    Root location: ./data\n",
      "    Split: Test\n",
      "    StandardTransform\n",
      "Transform: ToTensor()\n"
     ]
    }
   ],
   "source": [
    "# validation dataset\n",
    "validation_dataset = dsets.MNIST(root='./data', train=False, download=True, transform=transforms.ToTensor())\n",
    "print(\"Print the validation dataset: \\n \", validation_dataset)"
   ]
  },
  {
   "cell_type": "markdown",
   "metadata": {},
   "source": [
    "Plotting the data function"
   ]
  },
  {
   "cell_type": "code",
   "execution_count": 5,
   "metadata": {},
   "outputs": [],
   "source": [
    "def show_data(sample):\n",
    "    plt.imshow(sample[0].numpy().reshape(28, 28), cmap='gray')\n",
    "    plt.title('y = ' + str(sample[1]))"
   ]
  },
  {
   "cell_type": "code",
   "execution_count": 27,
   "metadata": {},
   "outputs": [
    {
     "data": {
      "image/png": "[encoded data removed]",
      "text/plain": [
       "<Figure size 432x288 with 1 Axes>"
      ]
     },
     "metadata": {
      "needs_background": "light"
     },
     "output_type": "display_data"
    }
   ],
   "source": [
    "show_data(train_dataset[randrange(len(train_dataset))])\n",
    "# show_data(train_dataset[60000])"
   ]
  },
  {
   "cell_type": "markdown",
   "metadata": {},
   "source": [
    "### Class"
   ]
  },
  {
   "cell_type": "code",
   "execution_count": 7,
   "metadata": {},
   "outputs": [],
   "source": [
    "class SoftMax(nn.Module):\n",
    "    def __init__(self, input_size, output_size):\n",
    "        super(SoftMax, self).__init__()\n",
    "        self.linear = nn.Linear(input_size, output_size)\n",
    "        \n",
    "    def forward(self, x):\n",
    "        z = self.linear(x)\n",
    "        return z"
   ]
  },
  {
   "cell_type": "code",
   "execution_count": 8,
   "metadata": {},
   "outputs": [],
   "source": [
    "input_dim = 28 * 28\n",
    "output_dim = 10\n",
    "\n",
    "model = SoftMax(input_dim, output_dim)\n",
    "\n",
    "learning_rate = 0.1\n",
    "optimizer = torch.optim.SGD(model.parameters(), lr=learning_rate)\n",
    "criterion = nn.CrossEntropyLoss()\n",
    "loader_train = torch.utils.data.DataLoader(dataset=train_dataset, batch_size=100)\n",
    "loader_validation = torch.utils.data.DataLoader(dataset=validation_dataset, batch_size=len(validation_dataset))"
   ]
  },
  {
   "cell_type": "code",
   "execution_count": 11,
   "metadata": {},
   "outputs": [
    {
     "name": "stdout",
     "output_type": "stream",
     "text": [
      "0\n",
      "0\n",
      "loss data:  tensor(0.3004)\n",
      "loss list:  [tensor(0.3004)]\n",
      "1\n",
      "0\n",
      "loss data:  tensor(0.2977)\n",
      "loss list:  [tensor(0.3004), tensor(0.2977)]\n",
      "2\n",
      "0\n",
      "loss data:  tensor(0.2953)\n",
      "loss list:  [tensor(0.3004), tensor(0.2977), tensor(0.2953)]\n",
      "3\n",
      "0\n",
      "loss data:  tensor(0.2930)\n",
      "loss list:  [tensor(0.3004), tensor(0.2977), tensor(0.2953), tensor(0.2930)]\n",
      "4\n",
      "0\n",
      "loss data:  tensor(0.2909)\n",
      "loss list:  [tensor(0.3004), tensor(0.2977), tensor(0.2953), tensor(0.2930), tensor(0.2909)]\n",
      "5\n",
      "0\n",
      "loss data:  tensor(0.2889)\n",
      "loss list:  [tensor(0.3004), tensor(0.2977), tensor(0.2953), tensor(0.2930), tensor(0.2909), tensor(0.2889)]\n",
      "6\n",
      "0\n",
      "loss data:  tensor(0.2871)\n",
      "loss list:  [tensor(0.3004), tensor(0.2977), tensor(0.2953), tensor(0.2930), tensor(0.2909), tensor(0.2889), tensor(0.2871)]\n",
      "7\n",
      "0\n",
      "loss data:  tensor(0.2853)\n",
      "loss list:  [tensor(0.3004), tensor(0.2977), tensor(0.2953), tensor(0.2930), tensor(0.2909), tensor(0.2889), tensor(0.2871), tensor(0.2853)]\n",
      "8\n",
      "0\n",
      "loss data:  tensor(0.2837)\n",
      "loss list:  [tensor(0.3004), tensor(0.2977), tensor(0.2953), tensor(0.2930), tensor(0.2909), tensor(0.2889), tensor(0.2871), tensor(0.2853), tensor(0.2837)]\n",
      "9\n",
      "0\n",
      "loss data:  tensor(0.2821)\n",
      "loss list:  [tensor(0.3004), tensor(0.2977), tensor(0.2953), tensor(0.2930), tensor(0.2909), tensor(0.2889), tensor(0.2871), tensor(0.2853), tensor(0.2837), tensor(0.2821)]\n"
     ]
    }
   ],
   "source": [
    "n_epochs=10\n",
    "loss_list = []\n",
    "accuracy_list = []\n",
    "\n",
    "def train_model(epochs):\n",
    "    for epoch in range(epochs):\n",
    "        print(epoch)\n",
    "        i = 0\n",
    "        print(i)\n",
    "        for x, y in loader_train:\n",
    "            print(x)\n",
    "            i += 1\n",
    "            yhat = model.forward(x.view(-1, 28*28))\n",
    "            loss = criterion(yhat, y)\n",
    "            optimizer.zero_grad()\n",
    "            loss.backward()\n",
    "            optimizer.step()\n",
    "        loss_list.append(loss.data)    \n",
    "        print('loss data: ', loss.data)\n",
    "        print('loss list: ', loss_list)\n",
    "            \n",
    "            \n",
    "#         correct = 0\n",
    "#         # perform a prediction on the validationdata  \n",
    "#         for x_test, y_test in loader_validation:\n",
    "#             z = model(x_test.view(-1, 28 * 28))\n",
    "#             _, yhat = torch.max(z.data, 1)\n",
    "#             # print(y_test)\n",
    "#             # print(yhat)\n",
    "#             correct += (yhat == y_test).sum().item()\n",
    "#         accuracy = correct / len(validation_dataset)\n",
    "        \n",
    "        \n",
    "    \n",
    "#     accuracy_list.append(accuracy)\n",
    "        \n",
    "train_model(n_epochs)            "
   ]
  },
  {
   "cell_type": "code",
   "execution_count": 27,
   "metadata": {},
   "outputs": [
    {
     "data": {
      "image/png": "[encoded data removed]",
      "text/plain": [
       "<Figure size 432x288 with 2 Axes>"
      ]
     },
     "metadata": {
      "needs_background": "light"
     },
     "output_type": "display_data"
    }
   ],
   "source": [
    "# Plot the loss and accuracy\n",
    "\n",
    "fig, ax1 = plt.subplots()\n",
    "color = 'tab:red'\n",
    "ax1.plot(loss_list,color=color)\n",
    "ax1.set_xlabel('epoch',color=color)\n",
    "ax1.set_ylabel('total loss',color=color)\n",
    "ax1.tick_params(axis='y', color=color)\n",
    "    \n",
    "ax2 = ax1.twinx()  \n",
    "color = 'tab:blue'\n",
    "ax2.set_ylabel('accuracy', color=color)  \n",
    "ax2.plot( accuracy_list, color=color)\n",
    "ax2.tick_params(axis='y', color=color)\n",
    "fig.tight_layout()"
   ]
  },
  {
   "cell_type": "code",
   "execution_count": null,
   "metadata": {},
   "outputs": [],
   "source": []
  }
 ],
 "metadata": {
  "interpreter": {
   "hash": "c30524a2e2b24cdc91d7de60270f8a5713551b1da92b36c451075ca5d8414f58"
  },
  "kernelspec": {
   "display_name": "Python 3 (ipykernel)",
   "language": "python",
   "name": "python3"
  },
  "language_info": {
   "codemirror_mode": {
    "name": "ipython",
    "version": 3
   },
   "file_extension": ".py",
   "mimetype": "text/x-python",
   "name": "python",
   "nbconvert_exporter": "python",
   "pygments_lexer": "ipython3",
   "version": "3.9.1"
  }
 },
 "nbformat": 4,
 "nbformat_minor": 2
}
