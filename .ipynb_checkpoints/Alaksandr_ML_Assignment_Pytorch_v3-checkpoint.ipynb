{
 "cells": [
  {
   "cell_type": "markdown",
   "metadata": {
    "id": "1VU8svO82ZBI"
   },
   "source": [
    "# Libraries\n",
    "All libraries used in the notebook"
   ]
  },
  {
   "cell_type": "code",
   "execution_count": 1,
   "metadata": {
    "id": "VczYWBUW1prx"
   },
   "outputs": [],
   "source": [
    "# https://docs.python.org/3/library/itertools.html\n",
    "\n",
    "import itertools\n",
    "import pandas as pd\n",
    "import numpy as np\n",
    "from PIL import Image\n",
    "from sklearn.model_selection import train_test_split\n",
    "from sklearn.metrics import accuracy_score, confusion_matrix\n",
    "\n",
    "# Viz\n",
    "import matplotlib.pyplot as plt\n",
    "import seaborn as sn\n",
    "\n",
    "# Torch\n",
    "import torch\n",
    "import torchvision\n",
    "import torch.nn as nn\n",
    "import torch.nn.functional as F\n",
    "import torch.optim as optim\n",
    "import torch.utils.data as tdata"
   ]
  },
  {
   "cell_type": "code",
   "execution_count": 2,
   "metadata": {
    "id": "tG549KDe1sVZ"
   },
   "outputs": [],
   "source": [
    "# setting a random seed. with this we have our results absolutely identical\n",
    "random_seed = 0\n",
    "torch.manual_seed(random_seed)\n",
    "np.random.seed(random_seed)\n",
    "\n"
   ]
  },
  {
   "cell_type": "markdown",
   "metadata": {
    "id": "2dTFXR3tOs8m"
   },
   "source": [
    "## CPU/GPU\n",
    "Cuda: Library to use GPUs.\n",
    "\n",
    "\n",
    "cudnn: Library to do Neural Net stuff on GPUs (probably uses Cuda to talk to the GPUs)"
   ]
  },
  {
   "cell_type": "code",
   "execution_count": 3,
   "metadata": {
    "id": "aQ3Jm2IsOpS4"
   },
   "outputs": [],
   "source": [
    "# CPU \n",
    "torch.backends.cudnn.enabled = False"
   ]
  },
  {
   "cell_type": "markdown",
   "metadata": {
    "id": "8cCIHuma9KHP"
   },
   "source": [
    "## Interview introduction\n",
    "\n",
    "The objective is to build a classifier on MNIST dataset that meets certain performance criteria.\n",
    "For this task, you will need to train the model of your choice and compute the following metrics:\n",
    "* Per class FPR\n",
    "* Per class TPR\n",
    "\n",
    "The goal for your classifier is to reduce the false positive rate as low as possible for each class in the test set while maintaining the recall as high as possible.\n",
    "\n",
    "You will find below the current (naive) training pipeline for this task. We suggest you spend some time looking at the current existing code and existing classes.\n",
    "We suggest focusing on improvements that do not fundamentally change the overall code structure first as this would make it easier to debug and fit in the time given.\n",
    "\n",
    "You are free to ask any questions including part of the code you may not understand.\n",
    "\n",
    "**Important Note**: All markdown sections and comments below are written from the perspective of a junior employee. It simply explains what is being done but trust its logic with caution. The code should not contain hidden bugs. We have also written a few hints in *italic* to help guide the interview, we still suggest you get an overview of the whole work before trying to modify it."
   ]
  },
  {
   "cell_type": "markdown",
   "metadata": {
    "id": "s_YdFXR063kK"
   },
   "source": [
    "# Download dataset and create data loaders"
   ]
  },
  {
   "cell_type": "code",
   "execution_count": 4,
   "metadata": {
    "colab": {
     "base_uri": "https://localhost:8080/",
     "height": 423,
     "referenced_widgets": [
      "829f048cf86849419af37b767259c3c8",
      "8fed161c94b347cfa34075e5257037a0",
      "3d6d60f18936455c92d966ddf6397638",
      "53daa3813fe94ad99ac5224628049beb",
      "4d1798cc4e4f4843ac44d5f2a74991ea",
      "2c5f0b3d6c374bc49188962052aa7700",
      "ab19c913123a41b68b6781e35f181afe",
      "85216e3bba634ee6af3e71dbf0360869",
      "cb0224dda97a4720bd6f1f2428d8f5a1",
      "48a7195ca4684386bd5bbc66ab92aed5",
      "108dbce4a01c479cb39b0488fcf15e5e",
      "7511d5a5d0e04641b996d61f0d722064",
      "4020e8fe0ae74771a0526b35ead48fd4",
      "addb3f80e0a94477a5492fcbed38053d",
      "5e86c8aabeb54163bca8d83737b8d4c7",
      "023de64d197241e397d48350309f03db",
      "7975b342d2e94e2490fc293cf4e4a5aa",
      "990c33f70053431f9cd247b58017d547",
      "89b8dc7961e24568b82dddfdcbe30b81",
      "c4f9eaefe24246678790a3cdcf5739b2",
      "e6042bbef1584fc09deed5217e3a57fa",
      "93b67db2201d42bb9298abe8a56b6ac2",
      "b63efa349a5f4ac7865b3ce398e1e6ab",
      "8647b25a39494b68a28521c47fed89c7",
      "7bfce70195224c60b739dfafe4d6de6e",
      "a952b4bd817c458a9f7953d1ece4bf62",
      "ebdc86f6f9734d6db0dafd0c9418eb19",
      "d77ee31e691140dba75870e3da9abd1a",
      "f1fe6a8990b445dfb0a89e8ccac15efb",
      "9f9f4c88d4e6483d98d18b8afbded09e",
      "483a7e4109d24f028c398de6b43e2cd1",
      "cb8068cda5df4be99e40c2965d84092c",
      "1a631e684d594f279ec8b22f75de2d4c",
      "0b279c833e4b4562a06bc8e4ea72f32b",
      "7546fc3fc4e94f5abbfce7b609971aba",
      "a44554991f564c6197d740ae1047ac05",
      "3fdd5d4cb07f45f28c32ff04c900a693",
      "0f8ebd846acc43ef91135d3b19ef6e31",
      "6ffe2cd812294393897d57b5b4b93e43",
      "fbd46aff0a714029892f335f9cfc22b3",
      "e5a951b502374c89ac147d8b652d6ef4",
      "ddd72b2f4acf483ca6990cad47d6d4b0",
      "d25e6ec4cfb6439e839d319ecbabdc52",
      "172efa3edf1d4febaffa0fef0dd95075"
     ]
    },
    "id": "nQvvkFwi1vUA",
    "outputId": "241b686a-df4c-4554-84e3-a767913dc075"
   },
   "outputs": [
    {
     "name": "stdout",
     "output_type": "stream",
     "text": [
      "Downloading http://yann.lecun.com/exdb/mnist/train-images-idx3-ubyte.gz\n"
     ]
    },
    {
     "name": "stderr",
     "output_type": "stream",
     "text": [
      "2.8%"
     ]
    },
    {
     "name": "stdout",
     "output_type": "stream",
     "text": [
      "Downloading http://yann.lecun.com/exdb/mnist/train-images-idx3-ubyte.gz to /files/MNIST\\raw\\train-images-idx3-ubyte.gz\n"
     ]
    },
    {
     "name": "stderr",
     "output_type": "stream",
     "text": [
      "31.0%IOPub message rate exceeded.\n",
      "The notebook server will temporarily stop sending output\n",
      "to the client in order to avoid crashing it.\n",
      "To change this limit, set the config variable\n",
      "`--NotebookApp.iopub_msg_rate_limit`.\n",
      "\n",
      "Current values:\n",
      "NotebookApp.iopub_msg_rate_limit=1000.0 (msgs/sec)\n",
      "NotebookApp.rate_limit_window=3.0 (secs)\n",
      "\n",
      "98.9%IOPub message rate exceeded.\n",
      "The notebook server will temporarily stop sending output\n",
      "to the client in order to avoid crashing it.\n",
      "To change this limit, set the config variable\n",
      "`--NotebookApp.iopub_msg_rate_limit`.\n",
      "\n",
      "Current values:\n",
      "NotebookApp.iopub_msg_rate_limit=1000.0 (msgs/sec)\n",
      "NotebookApp.rate_limit_window=3.0 (secs)\n",
      "\n"
     ]
    }
   ],
   "source": [
    "# As a separate task for learning purposes later I'll create a custom implementations of torch.utils.data.DataLoader and torchvision.datasets.MNIST\n",
    "\n",
    "train_loader = torch.utils.data.DataLoader(\n",
    "  torchvision.datasets.MNIST('/files/', train=True, download=True,\n",
    "                             transform=torchvision.transforms.Compose([\n",
    "                               torchvision.transforms.ToTensor(),\n",
    "                               torchvision.transforms.Normalize(\n",
    "                                 (0.1307,), (0.3081,))\n",
    "                             ])),\n",
    "  batch_size=256, shuffle=True)\n",
    "\n",
    "test_loader = torch.utils.data.DataLoader(\n",
    "  torchvision.datasets.MNIST('/files/', train=False, download=True,\n",
    "                             transform=torchvision.transforms.Compose([\n",
    "                               torchvision.transforms.ToTensor(),\n",
    "                               torchvision.transforms.Normalize(\n",
    "                                 (0.1307,), (0.3081,))\n",
    "                             ])),\n",
    "  batch_size=1000, shuffle=True)"
   ]
  },
  {
   "cell_type": "markdown",
   "metadata": {
    "id": "MTl_C5ES8zth"
   },
   "source": [
    "# Dataset Exploration\n",
    "Let's first observe the dataset. The dataset class will also be used to generate batches and feed the model.\n",
    "\n",
    "*Interview: Is exploration sufficient ? Can the dataset class be improved ?*"
   ]
  },
  {
   "cell_type": "code",
   "execution_count": 5,
   "metadata": {
    "id": "4xJLWefF67qH"
   },
   "outputs": [],
   "source": [
    "examples = enumerate(train_loader)\n",
    "batch_idx, (example_data, example_targets) = next(examples)"
   ]
  },
  {
   "cell_type": "code",
   "execution_count": 6,
   "metadata": {
    "colab": {
     "base_uri": "https://localhost:8080/"
    },
    "id": "0L2Yb1Dn7Aws",
    "outputId": "dfcb5df5-1301-4780-93fb-558ab6d77758"
   },
   "outputs": [
    {
     "data": {
      "text/plain": [
       "torch.Size([256, 1, 28, 28])"
      ]
     },
     "execution_count": 6,
     "metadata": {},
     "output_type": "execute_result"
    }
   ],
   "source": [
    "example_data.shape"
   ]
  },
  {
   "cell_type": "code",
   "execution_count": 7,
   "metadata": {
    "id": "l32Ym8gv12WT"
   },
   "outputs": [],
   "source": [
    "examples = enumerate(test_loader)\n",
    "batch_idx, (example_data, example_targets) = next(examples)"
   ]
  },
  {
   "cell_type": "code",
   "execution_count": 8,
   "metadata": {
    "colab": {
     "base_uri": "https://localhost:8080/"
    },
    "id": "mrmElCEX15Ky",
    "outputId": "e7c54cb2-b871-4005-f636-6864656f4c9c"
   },
   "outputs": [
    {
     "data": {
      "text/plain": [
       "torch.Size([1000, 1, 28, 28])"
      ]
     },
     "execution_count": 8,
     "metadata": {},
     "output_type": "execute_result"
    }
   ],
   "source": [
    "example_data.shape"
   ]
  },
  {
   "cell_type": "code",
   "execution_count": 9,
   "metadata": {
    "colab": {
     "base_uri": "https://localhost:8080/",
     "height": 551
    },
    "id": "n8OSwuk81_H2",
    "outputId": "f45bb29e-a84c-493a-bb84-8e47a3558f2b"
   },
   "outputs": [
    {
     "data": {
      "image/png": "[encoded data removed]",
      "text/plain": [
       "<Figure size 432x288 with 6 Axes>"
      ]
     },
     "execution_count": 9,
     "metadata": {},
     "output_type": "execute_result"
    },
    {
     "data": {
      "image/png": "[encoded data removed]",
      "text/plain": [
       "<Figure size 432x288 with 6 Axes>"
      ]
     },
     "metadata": {},
     "output_type": "display_data"
    }
   ],
   "source": [
    "import matplotlib.pyplot as plt\n",
    "\n",
    "fig = plt.figure()\n",
    "for i in range(6):\n",
    "  plt.subplot(2,3,i+1)\n",
    "  plt.tight_layout()\n",
    "  plt.imshow(example_data[i][0], cmap='gray', interpolation='none')\n",
    "  plt.title(\"Ground Truth: {}\".format(example_targets[i]))\n",
    "  plt.xticks([])\n",
    "  plt.yticks([])\n",
    "fig"
   ]
  },
  {
   "cell_type": "markdown",
   "metadata": {
    "id": "JtiBZ4bA7W6G"
   },
   "source": [
    "# Model\n",
    "Since we use image data we use a CNN with the usual Conv + Relu + maxpooling.\n",
    "\n",
    "*Interview: How can we achieve better performances ?*"
   ]
  },
  {
   "cell_type": "code",
   "execution_count": 10,
   "metadata": {
    "id": "8_RoTre738zH"
   },
   "outputs": [],
   "source": [
    "class MNISTClassifier(nn.Module):\n",
    "    \n",
    "    def __init__(self):\n",
    "        super().__init__()\n",
    "        self.main = nn.Sequential(nn.Conv2d(1, 10, 3),\n",
    "                                  nn.ReLU(),\n",
    "                                  nn.MaxPool2d(2),\n",
    "                                  nn.Conv2d(10, 20, 3),\n",
    "                                  nn.ReLU(),\n",
    "                                  nn.AdaptiveAvgPool2d(1))\n",
    "        self.lin = nn.Linear(20, 10)\n",
    "        \n",
    "    def forward(self, x):\n",
    "        h = self.main(x)\n",
    "        logits = self.lin(h.squeeze(2).squeeze(2))\n",
    "        return logits "
   ]
  },
  {
   "cell_type": "code",
   "execution_count": 11,
   "metadata": {
    "id": "NKqG-8cX7VSP"
   },
   "outputs": [],
   "source": [
    "device = torch.device('cuda') if torch.cuda.is_available() else torch.device('cpu')"
   ]
  },
  {
   "cell_type": "code",
   "execution_count": 12,
   "metadata": {
    "id": "KhrEljZR7bCN"
   },
   "outputs": [],
   "source": [
    "model = MNISTClassifier().to(device)"
   ]
  },
  {
   "cell_type": "code",
   "execution_count": 13,
   "metadata": {
    "id": "x_6do5x17b6B"
   },
   "outputs": [],
   "source": [
    "#model(torch.rand((1, 1, 28, 28)).to(device))"
   ]
  },
  {
   "cell_type": "markdown",
   "metadata": {
    "id": "kyGhAseV7gX-"
   },
   "source": [
    "# Training loop\n",
    "The model is trained until its loss starts to stagnate. After a few trials, 5 epochs looks like a good time to stop according to the train plot.\n",
    "\n",
    "*Interview: Are we doing best practices ?*"
   ]
  },
  {
   "cell_type": "code",
   "execution_count": 14,
   "metadata": {
    "id": "vYGmQ0Gn7cy-"
   },
   "outputs": [],
   "source": [
    "loss_fn = nn.CrossEntropyLoss()\n",
    "opt = torch.optim.Adam(model.parameters())"
   ]
  },
  {
   "cell_type": "code",
   "execution_count": 15,
   "metadata": {
    "colab": {
     "base_uri": "https://localhost:8080/"
    },
    "id": "3_mT-UOg7iVF",
    "outputId": "0693539e-6486-4b65-c8b4-a4fd2caf5cba"
   },
   "outputs": [
    {
     "name": "stdout",
     "output_type": "stream",
     "text": [
      "0\n",
      "1\n"
     ]
    }
   ],
   "source": [
    "losses = []\n",
    "for e in range(2):\n",
    "    print(e)\n",
    "    for x, y in train_loader:\n",
    "        opt.zero_grad()\n",
    "        y = y.to(device)\n",
    "        logits = model(x.to(device))\n",
    "        loss = loss_fn(logits, y)\n",
    "        loss.backward()\n",
    "        opt.step()\n",
    "        losses.append(loss.item())"
   ]
  },
  {
   "cell_type": "code",
   "execution_count": 16,
   "metadata": {
    "colab": {
     "base_uri": "https://localhost:8080/",
     "height": 282
    },
    "id": "-QTFRZkK7jUY",
    "outputId": "59c936be-90ff-4b5d-91b9-0c6671828b73"
   },
   "outputs": [
    {
     "data": {
      "text/plain": [
       "[<matplotlib.lines.Line2D at 0x1bc376e8280>]"
      ]
     },
     "execution_count": 16,
     "metadata": {},
     "output_type": "execute_result"
    },
    {
     "data": {
      "image/png": "[encoded data removed]",
      "text/plain": [
       "<Figure size 432x288 with 1 Axes>"
      ]
     },
     "metadata": {
      "needs_background": "light"
     },
     "output_type": "display_data"
    }
   ],
   "source": [
    "plt.plot(losses)"
   ]
  },
  {
   "cell_type": "markdown",
   "metadata": {
    "id": "wZQdVJMu7mHH"
   },
   "source": [
    "# Performance on test data\n",
    "Here we display the resulting accuracy and and confusion matrix plot.\n",
    "\n",
    "*Interview: Think about ways to look at results that are both informative and could help us for future model versions*"
   ]
  },
  {
   "cell_type": "code",
   "execution_count": 17,
   "metadata": {
    "id": "_sdQXbDZ7ksl"
   },
   "outputs": [],
   "source": [
    "test_labels = []\n",
    "preds = []\n",
    "\n",
    "with torch.no_grad():\n",
    "    for x, y in test_loader:\n",
    "        logits = model(x.to(device))\n",
    "        predicted_labels = logits.argmax(1).cpu().detach().numpy()\n",
    "        preds.append(predicted_labels)\n",
    "        test_labels.append(y)\n",
    "\n",
    "\n",
    "preds = np.concatenate(preds, axis=0)\n",
    "labels = np.concatenate(test_labels, axis=0)"
   ]
  },
  {
   "cell_type": "code",
   "execution_count": 17,
   "metadata": {
    "colab": {
     "base_uri": "https://localhost:8080/"
    },
    "id": "OfaejNK27o6E",
    "outputId": "8aff5d0a-bfb7-4ece-b5b0-aca9658cd37f"
   },
   "outputs": [
    {
     "data": {
      "text/plain": [
       "0.5993"
      ]
     },
     "execution_count": 17,
     "metadata": {},
     "output_type": "execute_result"
    }
   ],
   "source": [
    "accuracy_score(labels, preds)"
   ]
  },
  {
   "cell_type": "code",
   "execution_count": 18,
   "metadata": {
    "id": "gndXtHLl7p7m"
   },
   "outputs": [],
   "source": [
    "def generate_matplotlib_cm(cm, name_dict):\n",
    "    fig = plt.figure(figsize=(7, 7), facecolor='w', edgecolor='k')\n",
    "    ax = fig.add_subplot(1, 1, 1)\n",
    "    ax.imshow(cm, cmap='Oranges')\n",
    "\n",
    "    classes = list(name_dict.values())\n",
    "    tick_marks = np.arange(len(classes))\n",
    "\n",
    "    ax.set_xlabel('Predicted', fontsize=12)\n",
    "    ax.set_xticks(tick_marks)\n",
    "    ax.set_xticklabels(classes, fontsize=10, rotation=-90,  ha='center')\n",
    "    ax.xaxis.set_label_position('bottom')\n",
    "    ax.xaxis.tick_bottom()\n",
    "\n",
    "    ax.set_ylabel('True Label', fontsize=12)\n",
    "    ax.set_yticks(tick_marks)\n",
    "    ax.set_yticklabels(classes, fontsize=10, va='center')\n",
    "    ax.yaxis.set_label_position('left')\n",
    "    ax.yaxis.tick_left()\n",
    "    for i, j in itertools.product(range(cm.shape[0]), range(cm.shape[1])):\n",
    "        ax.text(j, i, format(cm[i, j], 'd') if cm[i, j] != 0 else '.', horizontalalignment=\"center\", fontsize=9,\n",
    "                verticalalignment='center', color=\"black\")\n",
    "    plt.show()"
   ]
  },
  {
   "cell_type": "code",
   "execution_count": 19,
   "metadata": {
    "id": "lG3EhVFM-2kE"
   },
   "outputs": [],
   "source": [
    "name_dict = {}\n",
    "for index in range(10):\n",
    "  name_dict[index] = str(index)"
   ]
  },
  {
   "cell_type": "code",
   "execution_count": 20,
   "metadata": {
    "colab": {
     "base_uri": "https://localhost:8080/",
     "height": 442
    },
    "id": "IAfTfGXI7q7k",
    "outputId": "6f18f0cb-8f4d-4e47-aecb-1e157db61069"
   },
   "outputs": [
    {
     "data": {
      "image/png": "[encoded data removed]",
      "text/plain": [
       "<Figure size 504x504 with 1 Axes>"
      ]
     },
     "metadata": {},
     "output_type": "display_data"
    }
   ],
   "source": [
    "generate_matplotlib_cm(confusion_matrix(labels, preds), name_dict)"
   ]
  },
  {
   "cell_type": "markdown",
   "metadata": {
    "id": "tRNaxD2jAlSC"
   },
   "source": [
    "## Here you need to write code for displaying the FPR and TPR for each class in test"
   ]
  },
  {
   "cell_type": "code",
   "execution_count": 21,
   "metadata": {
    "colab": {
     "base_uri": "https://localhost:8080/"
    },
    "id": "ZTr58saBAzqO",
    "outputId": "f2ac8c3d-0afe-46ce-ac9b-29d5e604bdcc"
   },
   "outputs": [
    {
     "name": "stdout",
     "output_type": "stream",
     "text": [
      "positive [ 980 1135 1032 1010  982  892  958 1028  974 1009]\n",
      "negative [9020 8865 8968 8990 9018 9108 9042 8972 9026 8991]\n",
      "--\n",
      "tp [ 582 1091  433  759  554  251  583  683  570  693]\n",
      "tpr [0.59387755 0.96123348 0.41957364 0.75148515 0.56415479 0.28139013\n",
      " 0.6085595  0.66439689 0.58521561 0.68681863]\n",
      "--\n",
      "fp [ 113  194  193 1010  518  144  266  160  477  726]\n",
      "fpr [0.01252772 0.02188381 0.02152096 0.11234705 0.05744067 0.01581028\n",
      " 0.02941827 0.01783326 0.05284733 0.08074741]\n",
      "--\n",
      "fn [398  44 599 251 428 641 375 345 404 316]\n",
      "tn [8907 8671 8775 7980 8500 8964 8776 8812 8549 8265]\n",
      "acc [0.9489 0.9762 0.9208 0.8739 0.9054 0.9215 0.9359 0.9495 0.9119 0.8958]\n"
     ]
    }
   ],
   "source": [
    "def calculate_metrix(labels, preds):\n",
    "  matrix = confusion_matrix(labels, preds)\n",
    "\n",
    "  # Positive (P)\n",
    "  positive = np.sum(matrix, axis=1)\n",
    "  print(\"positive\", positive)\n",
    "\n",
    "  # Negative (N)\n",
    "  negative = np.sum(matrix) - np.sum(matrix, axis=1)\n",
    "  print(\"negative\", negative)\n",
    "\n",
    "  print('--')\n",
    "\n",
    "  # True Positive (TP)\n",
    "  tp = np.diagonal(matrix)\n",
    "  print(\"tp\",  tp)\n",
    "\n",
    "  # True Positive Rate (TPR)\n",
    "  tpr = tp / positive\n",
    "  print(\"tpr\",  tpr)\n",
    "\n",
    "  print('--')\n",
    "\n",
    "  # False Positive (FP)\n",
    "  fp = np.sum(matrix, axis=0) - tp\n",
    "  print(\"fp\", fp)\n",
    "\n",
    "  # False Positive Rate (FPR)\n",
    "  fpr = fp / negative\n",
    "  print(\"fpr\", fpr)\n",
    "\n",
    "  print('--')\n",
    "\n",
    "  # False Negative (FN)\n",
    "  fn = np.sum(matrix, axis=1) - tp\n",
    "  print(\"fn\",  fn)\n",
    "\n",
    "  # True Negative (NT)\n",
    "  tn = np.sum(matrix) - (fp + fn + tp)\n",
    "  print(\"tn\",  tn)\n",
    "\n",
    "  # Accuracy (ACC)\n",
    "  acc = (tp + tn) / np.sum(matrix)\n",
    "  print(\"acc\", acc)\n",
    "\n",
    "\n",
    "calculate_metrix(labels, preds)"
   ]
  },
  {
   "cell_type": "markdown",
   "metadata": {
    "id": "Ueo-PD7cfniv"
   },
   "source": [
    "## Interview: Is exploration sufficient ? Can the dataset class be improved ?"
   ]
  },
  {
   "cell_type": "markdown",
   "metadata": {
    "id": "BtqkzXRAfu0r"
   },
   "source": [
    "Answer: not, sufficient. \n",
    "1. We don't even know how many samples do we have in train set\n",
    "2. We don't know about whther it's balanced or inbalanced"
   ]
  },
  {
   "cell_type": "markdown",
   "metadata": {
    "id": "pmIrQSNpf-BB"
   },
   "source": [
    "Answer: 1. We don't even know how many samples do we have in train set"
   ]
  },
  {
   "cell_type": "code",
   "execution_count": 22,
   "metadata": {
    "colab": {
     "base_uri": "https://localhost:8080/"
    },
    "id": "FCPnfmWYhCK7",
    "outputId": "84b27dd5-e85b-4c9e-8b56-553871ee00c1"
   },
   "outputs": [
    {
     "name": "stdout",
     "output_type": "stream",
     "text": [
      "Dataset MNIST\n",
      "    Number of datapoints: 60000\n",
      "    Root location: /files/\n",
      "    Split: Train\n",
      "    StandardTransform\n",
      "Transform: Compose(\n",
      "               ToTensor()\n",
      "               Normalize(mean=(0.1307,), std=(0.3081,))\n",
      "           )\n",
      "Dataset MNIST\n",
      "    Number of datapoints: 10000\n",
      "    Root location: /files/\n",
      "    Split: Test\n",
      "    StandardTransform\n",
      "Transform: Compose(\n",
      "               ToTensor()\n",
      "               Normalize(mean=(0.1307,), std=(0.3081,))\n",
      "           )\n",
      "60000\n",
      "10000\n"
     ]
    }
   ],
   "source": [
    "print(train_loader.dataset)\n",
    "print(test_loader.dataset)\n",
    "print(len(train_loader.dataset))\n",
    "print(len(test_loader.dataset))\n",
    "\n"
   ]
  },
  {
   "cell_type": "markdown",
   "metadata": {
    "id": "a6VJZJbyt66n"
   },
   "source": [
    "## Checking the Dataset"
   ]
  },
  {
   "cell_type": "code",
   "execution_count": 23,
   "metadata": {
    "colab": {
     "base_uri": "https://localhost:8080/"
    },
    "id": "55pbnOZut_Yl",
    "outputId": "a359724c-5131-45d7-c1c5-42187757c592"
   },
   "outputs": [
    {
     "name": "stdout",
     "output_type": "stream",
     "text": [
      "[0, 1, 2, 3, 4, 5, 6, 7, 8, 9]\n",
      "[[5923, 6742, 5958, 6131, 5842, 5421, 5918, 6265, 5851, 5949], [980, 1135, 1032, 1010, 982, 892, 958, 1028, 974, 1009]]\n"
     ]
    }
   ],
   "source": [
    "datasets = [train_loader.dataset, test_loader.dataset]\n",
    "\n",
    "labels_count = 10\n",
    "labels = [*range(labels_count)]\n",
    "values = []\n",
    "\n",
    "for index, ds in enumerate(datasets):\n",
    "  t = ds.targets\n",
    "  avarage = ds.targets.shape[0] / labels_count\n",
    "  values.append([])\n",
    "\n",
    "\n",
    "  for label in range(labels_count):\n",
    "\n",
    "      amount = int(t[t == label].shape[0])\n",
    "      # amount -= avarage\n",
    "      values[index].append(amount)\n",
    "\n",
    "print(labels)\n",
    "print(values)\n",
    "\n",
    "\n"
   ]
  },
  {
   "cell_type": "code",
   "execution_count": 24,
   "metadata": {
    "colab": {
     "base_uri": "https://localhost:8080/",
     "height": 673
    },
    "id": "Mrm9Fgab-PoZ",
    "outputId": "3368bf2a-475a-4841-a39a-e709f16ae79d"
   },
   "outputs": [
    {
     "data": {
      "image/png": "[encoded data removed]",
      "text/plain": [
       "<Figure size 1440x648 with 2 Axes>"
      ]
     },
     "metadata": {
      "needs_background": "light"
     },
     "output_type": "display_data"
    }
   ],
   "source": [
    "fig, axs = plt.subplots(1, 2, constrained_layout=True, figsize=(20,9))\n",
    "\n",
    "for index, ds in enumerate(datasets):\n",
    "  title = \"Train\" if index == 0 else \"Test\"\n",
    "  axs[index].set_title(title)\n",
    "  axs[index].set(ylim=[int(min(values[index]) * 0.9), int(max(values[index]) * 1.1)])\n",
    "  axs[index].bar(labels, values[index])\n",
    "  \n",
    "\n",
    "plt.suptitle('Labels distribution')\n",
    "plt.show()\n",
    "\n"
   ]
  },
  {
   "cell_type": "markdown",
   "metadata": {
    "id": "0Xtud10ckeS0"
   },
   "source": [
    "Our Dataset is a bit imbalanced but not that much"
   ]
  },
  {
   "cell_type": "markdown",
   "metadata": {
    "id": "7zfR1A5fkWSZ"
   },
   "source": [
    "## We can do the data augmentation"
   ]
  },
  {
   "cell_type": "code",
   "execution_count": 31,
   "metadata": {},
   "outputs": [],
   "source": []
  },
  {
   "cell_type": "code",
   "execution_count": 34,
   "metadata": {
    "id": "s6KBXJpULx9j"
   },
   "outputs": [],
   "source": [
    "train_loader_rotated = torch.utils.data.DataLoader(\n",
    "  torchvision.datasets.MNIST('/files/', train=True, download=True,\n",
    "                             transform=torchvision.transforms.Compose([\n",
    "                              torchvision.transforms.RandomRotation(15),\n",
    "                               torchvision.transforms.ToTensor(),\n",
    "                               torchvision.transforms.Normalize(\n",
    "                                 (0.1307,), (0.3081,))\n",
    "                             ])),\n",
    "  batch_size=256, shuffle=True)"
   ]
  },
  {
   "cell_type": "code",
   "execution_count": 35,
   "metadata": {
    "colab": {
     "base_uri": "https://localhost:8080/",
     "height": 551
    },
    "id": "HJFM9_vae_DC",
    "outputId": "7b5ba584-73f3-4691-df8d-c453611544c9"
   },
   "outputs": [
    {
     "data": {
      "image/png": "[encoded data removed]",
      "text/plain": [
       "<Figure size 432x288 with 6 Axes>"
      ]
     },
     "metadata": {},
     "output_type": "display_data"
    }
   ],
   "source": [
    "examples = enumerate(train_loader_rotated)\n",
    "batch_idx, (example_data, example_targets) = next(examples)\n",
    "\n",
    "import matplotlib.pyplot as plt\n",
    "\n",
    "fig = plt.figure()\n",
    "for i in range(6):\n",
    "  plt.subplot(2,3,i+1)\n",
    "  plt.tight_layout()\n",
    "  plt.imshow(example_data[i][0], cmap='gray', interpolation='none')\n",
    "  plt.title(\"Ground Truth: {}\".format(example_targets[i]))\n",
    "  plt.xticks([])\n",
    "  plt.yticks([])\n",
    "# fig"
   ]
  },
  {
   "cell_type": "code",
   "execution_count": 36,
   "metadata": {},
   "outputs": [],
   "source": [
    "class AddGaussianNoise(object):\n",
    "    def __init__(self, mean=0., std=1.):\n",
    "        self.std = std\n",
    "        self.mean = mean\n",
    "        \n",
    "    def __call__(self, tensor):\n",
    "        return tensor + torch.randn(tensor.size()) * self.std + self.mean\n",
    "    \n",
    "    def __repr__(self):\n",
    "        return self.__class__.__name__ + '(mean={0}, std={1})'.format(self.mean, self.std)"
   ]
  },
  {
   "cell_type": "code",
   "execution_count": 37,
   "metadata": {},
   "outputs": [],
   "source": [
    "\n",
    "train_loader_gaussian_noise = torch.utils.data.DataLoader(\n",
    "  torchvision.datasets.MNIST('/files/', train=True, download=True,\n",
    "                             transform=torchvision.transforms.Compose([\n",
    "                               torchvision.transforms.ToTensor(),\n",
    "                               AddGaussianNoise(0.1, 0.08),\n",
    "                               torchvision.transforms.Normalize(\n",
    "                                 (0.1307,), (0.3081,))\n",
    "                             ])),\n",
    "  batch_size=256, shuffle=True)"
   ]
  },
  {
   "cell_type": "code",
   "execution_count": 38,
   "metadata": {},
   "outputs": [
    {
     "data": {
      "image/png": "[encoded data removed]",
      "text/plain": [
       "<Figure size 432x288 with 6 Axes>"
      ]
     },
     "metadata": {},
     "output_type": "display_data"
    }
   ],
   "source": [
    "examples = enumerate(train_loader_gaussian_noise)\n",
    "batch_idx, (example_data, example_targets) = next(examples)\n",
    "\n",
    "import matplotlib.pyplot as plt\n",
    "\n",
    "fig = plt.figure()\n",
    "for i in range(6):\n",
    "  plt.subplot(2,3,i+1)\n",
    "  plt.tight_layout()\n",
    "  plt.imshow(example_data[i][0], cmap='gray', interpolation='none')\n",
    "  plt.title(\"Ground Truth: {}\".format(example_targets[i]))\n",
    "  plt.xticks([])\n",
    "  plt.yticks([])"
   ]
  },
  {
   "cell_type": "code",
   "execution_count": 39,
   "metadata": {
    "id": "VRDUfJBRNRni"
   },
   "outputs": [],
   "source": [
    "train_dataset_combined = torch.utils.data.ConcatDataset([train_loader.dataset, train_loader_rotated.dataset, train_loader_gaussian_noise.dataset])\n",
    "train_loader =  torch.utils.data.DataLoader(train_dataset_combined, batch_size=256, shuffle=True)"
   ]
  },
  {
   "cell_type": "code",
   "execution_count": 40,
   "metadata": {
    "colab": {
     "base_uri": "https://localhost:8080/",
     "height": 989
    },
    "id": "77N01dXPOIxF",
    "outputId": "c4c6f1f4-53ba-4c7e-faac-7076dced78fe"
   },
   "outputs": [
    {
     "name": "stdout",
     "output_type": "stream",
     "text": [
      "0\n",
      "1\n",
      "0.8625\n"
     ]
    },
    {
     "data": {
      "image/png": "[encoded data removed]",
      "text/plain": [
       "<Figure size 432x288 with 1 Axes>"
      ]
     },
     "metadata": {
      "needs_background": "light"
     },
     "output_type": "display_data"
    },
    {
     "data": {
      "image/png": "[encoded data removed]",
      "text/plain": [
       "<Figure size 504x504 with 1 Axes>"
      ]
     },
     "metadata": {},
     "output_type": "display_data"
    },
    {
     "name": "stdout",
     "output_type": "stream",
     "text": [
      "positive [ 980 1135 1032 1010  982  892  958 1028  974 1009]\n",
      "negative [9020 8865 8968 8990 9018 9108 9042 8972 9026 8991]\n",
      "--\n",
      "tp [ 853 1122  795  890  851  678  846  948  850  792]\n",
      "tpr [0.87040816 0.98854626 0.77034884 0.88118812 0.86659878 0.76008969\n",
      " 0.88308977 0.92217899 0.87268994 0.78493558]\n",
      "--\n",
      "fp [156  67 273  90 143 114 149 192  55 136]\n",
      "fpr [0.0172949  0.00755781 0.03044157 0.01001112 0.01585717 0.01251647\n",
      " 0.01647866 0.02139991 0.00609351 0.01512624]\n",
      "--\n",
      "fn [127  13 237 120 131 214 112  80 124 217]\n",
      "tn [8864 8798 8695 8900 8875 8994 8893 8780 8971 8855]\n",
      "acc [0.9717 0.992  0.949  0.979  0.9726 0.9672 0.9739 0.9728 0.9821 0.9647]\n"
     ]
    }
   ],
   "source": [
    "model = MNISTClassifier().to(device)\n",
    "loss_fn = nn.CrossEntropyLoss()\n",
    "opt = torch.optim.Adam(model.parameters())\n",
    "losses = []\n",
    "for e in range(2):\n",
    "    print(e)\n",
    "    for x, y in train_loader:\n",
    "        opt.zero_grad()\n",
    "        y = y.to(device)\n",
    "        logits = model(x.to(device))\n",
    "        loss = loss_fn(logits, y)\n",
    "        loss.backward()\n",
    "        opt.step()\n",
    "        losses.append(loss.item())\n",
    "\n",
    "plt.plot(losses)        \n",
    "\n",
    "\n",
    "test_labels = []\n",
    "preds = []\n",
    "\n",
    "with torch.no_grad():\n",
    "    for x, y in test_loader:\n",
    "        logits = model(x.to(device))\n",
    "        predicted_labels = logits.argmax(1).cpu().detach().numpy()\n",
    "        preds.append(predicted_labels)\n",
    "        test_labels.append(y)\n",
    "\n",
    "\n",
    "preds = np.concatenate(preds, axis=0)\n",
    "labels = np.concatenate(test_labels, axis=0)\n",
    "\n",
    "print(accuracy_score(labels, preds))\n",
    "\n",
    "generate_matplotlib_cm(confusion_matrix(labels, preds), name_dict)\n",
    "calculate_metrix(labels, preds)\n"
   ]
  },
  {
   "cell_type": "markdown",
   "metadata": {
    "id": "xVlCyX5nkzSn"
   },
   "source": [
    "Data augmentation works"
   ]
  },
  {
   "cell_type": "markdown",
   "metadata": {
    "id": "DUbkHCawR6AJ"
   },
   "source": [
    "## We can have a more complicated model\n"
   ]
  },
  {
   "cell_type": "code",
   "execution_count": 41,
   "metadata": {
    "id": "kte4yy5hjYFc"
   },
   "outputs": [],
   "source": [
    "class MNISTClassifier(nn.Module):\n",
    "    \n",
    "    def __init__(self):\n",
    "        super().__init__()\n",
    "        self.main = nn.Sequential(nn.Conv2d(1, 10, 3),\n",
    "                                  nn.ReLU(),\n",
    "                                  nn.MaxPool2d(2),\n",
    "                                  nn.Conv2d(10, 20, 3),\n",
    "                                  nn.ReLU(),\n",
    "                                  nn.Conv2d(20, 40, 3),\n",
    "                                  nn.ReLU(),                                  \n",
    "                                  nn.AdaptiveAvgPool2d(1))\n",
    "        self.lin = nn.Linear(40, 10)\n",
    "        \n",
    "    def forward(self, x):\n",
    "        h = self.main(x)\n",
    "        logits = self.lin(h.squeeze(2).squeeze(2))\n",
    "        return logits "
   ]
  },
  {
   "cell_type": "markdown",
   "metadata": {
    "id": "Kqmkzb_0ni7O"
   },
   "source": [
    "Also we will compare metrics from train and test datasets to see whether the model is overtrained "
   ]
  },
  {
   "cell_type": "code",
   "execution_count": 64,
   "metadata": {
    "colab": {
     "base_uri": "https://localhost:8080/",
     "height": 985
    },
    "id": "zEKRrmV5So1P",
    "outputId": "f83b971c-a6e1-41d3-d3c4-b488a86fcc44"
   },
   "outputs": [
    {
     "name": "stdout",
     "output_type": "stream",
     "text": [
      "0\n",
      "1\n",
      "Train metrics\n",
      "positive [47384 53936 47664 49048 46736 43368 47344 50120 46808 47592]\n",
      "negative [432616 426064 432336 430952 433264 436632 432656 429880 433192 432408]\n",
      "--\n",
      "tp [41794 51729 36553 41137 38518 35124 40339 43797 38495 37929]\n",
      "tpr [0.88202769 0.95908113 0.76688906 0.83870902 0.82416125 0.80990592\n",
      " 0.85204039 0.87384278 0.82240215 0.79696167]\n",
      "--\n",
      "fp [9288 4214 9245 9357 5266 7754 5136 9282 6859 8184]\n",
      "fpr [0.02146939 0.00989053 0.02138383 0.02171239 0.01215425 0.01775866\n",
      " 0.01187086 0.02159207 0.01583363 0.01892657]\n",
      "--\n",
      "fn [ 5590  2207 11111  7911  8218  8244  7005  6323  8313  9663]\n",
      "tn [423328 421850 423091 421595 427998 428878 427520 420598 426333 424224]\n",
      "acc [0.96900417 0.98662292 0.95759167 0.964025   0.97190833 0.96667083\n",
      " 0.97470625 0.96748958 0.96839167 0.96281875]\n",
      "Test metrics\n",
      "0.9451\n"
     ]
    },
    {
     "data": {
      "image/png": "[encoded data removed]",
      "text/plain": [
       "<Figure size 432x288 with 1 Axes>"
      ]
     },
     "metadata": {
      "needs_background": "light"
     },
     "output_type": "display_data"
    },
    {
     "data": {
      "image/png": "[encoded data removed]",
      "text/plain": [
       "<Figure size 504x504 with 1 Axes>"
      ]
     },
     "metadata": {},
     "output_type": "display_data"
    },
    {
     "name": "stdout",
     "output_type": "stream",
     "text": [
      "positive [ 980 1135 1032 1010  982  892  958 1028  974 1009]\n",
      "negative [9020 8865 8968 8990 9018 9108 9042 8972 9026 8991]\n",
      "--\n",
      "tp [ 940 1128  881  992  963  845  928  971  878  925]\n",
      "tpr [0.95918367 0.9938326  0.85368217 0.98217822 0.98065173 0.94730942\n",
      " 0.96868476 0.94455253 0.90143737 0.91674926]\n",
      "--\n",
      "fp [ 36  60  23 129  61  61  62  43  21  53]\n",
      "fpr [0.00399113 0.00676819 0.00256467 0.01434928 0.00676425 0.00669741\n",
      " 0.00685689 0.00479269 0.00232661 0.00589478]\n",
      "--\n",
      "fn [ 40   7 151  18  19  47  30  57  96  84]\n",
      "tn [8984 8805 8945 8861 8957 9047 8980 8929 9005 8938]\n",
      "acc [0.9924 0.9933 0.9826 0.9853 0.992  0.9892 0.9908 0.99   0.9883 0.9863]\n"
     ]
    }
   ],
   "source": [
    "model = MNISTClassifier().to(device)\n",
    "loss_fn = nn.CrossEntropyLoss()\n",
    "opt = torch.optim.Adam(model.parameters())\n",
    "losses = []\n",
    "train_labels = []\n",
    "train_preds = []\n",
    "for e in range(2):\n",
    "    print(e)\n",
    "    for x, y in train_loader:\n",
    "        opt.zero_grad()\n",
    "        y = y.to(device)\n",
    "        logits = model(x.to(device))\n",
    "        loss = loss_fn(logits, y)\n",
    "        loss.backward()\n",
    "        opt.step()\n",
    "        losses.append(loss.item())\n",
    "        \n",
    "        predicted_labels = logits.argmax(1).cpu().detach().numpy()\n",
    "        train_preds.append( predicted_labels )    \n",
    "        train_labels.append(y)\n",
    "\n",
    "plt.plot(losses)\n",
    "\n",
    "\n",
    "print(\"Train metrics\")\n",
    "train_preds_  = np.concatenate(train_preds, axis=0)\n",
    "train_labels_ = np.concatenate(train_labels, axis=0)\n",
    "calculate_metrix(train_labels_, train_preds_)\n",
    "\n",
    "test_labels = []\n",
    "test_preds = []\n",
    "\n",
    "with torch.no_grad():\n",
    "    for x, y in test_loader:\n",
    "        logits = model(x.to(device))\n",
    "        predicted_labels = logits.argmax(1).cpu().detach().numpy()\n",
    "        test_preds.append(predicted_labels)\n",
    "        test_labels.append(y)\n",
    "\n",
    "print(\"Test metrics\")\n",
    "test_preds_ = np.concatenate(test_preds, axis=0)\n",
    "test_labels_ = np.concatenate(test_labels, axis=0)\n",
    "\n",
    "print(accuracy_score(test_labels_, test_preds_))\n",
    "\n",
    "generate_matplotlib_cm(confusion_matrix(test_labels_, test_preds_), name_dict)\n",
    "\n",
    "\n",
    "calculate_metrix(test_labels_, test_preds_)\n",
    "\n"
   ]
  },
  {
   "cell_type": "markdown",
   "metadata": {},
   "source": [
    "### We also can try the dropout"
   ]
  },
  {
   "cell_type": "code",
   "execution_count": 67,
   "metadata": {},
   "outputs": [],
   "source": [
    "class MNISTClassifier(nn.Module):\n",
    "    \n",
    "    def __init__(self):\n",
    "        super().__init__()\n",
    "        self.main = nn.Sequential(nn.Conv2d(1, 10, 3),\n",
    "                                  nn.ReLU(),\n",
    "                                  nn.MaxPool2d(2),\n",
    "                                  nn.Dropout(0.2),\n",
    "                                  nn.Conv2d(10, 20, 3),\n",
    "                                  nn.ReLU(),\n",
    "                                  nn.Dropout(0.2),\n",
    "                                  nn.Conv2d(20, 40, 3),\n",
    "                                  nn.ReLU(),      \n",
    "                                  nn.Dropout(0.2),\n",
    "                                  nn.AdaptiveAvgPool2d(1))\n",
    "        self.lin = nn.Linear(40, 10)\n",
    "        \n",
    "    def forward(self, x):\n",
    "        h = self.main(x)\n",
    "        logits = self.lin(h.squeeze(2).squeeze(2))\n",
    "        return logits     "
   ]
  },
  {
   "cell_type": "code",
   "execution_count": null,
   "metadata": {},
   "outputs": [
    {
     "name": "stdout",
     "output_type": "stream",
     "text": [
      "0\n"
     ]
    }
   ],
   "source": [
    "model = MNISTClassifier().to(device)\n",
    "loss_fn = nn.CrossEntropyLoss()\n",
    "opt = torch.optim.Adam(model.parameters())\n",
    "losses = []\n",
    "train_labels = []\n",
    "train_preds = []\n",
    "for e in range(2):\n",
    "    print(e)\n",
    "    for x, y in train_loader:\n",
    "        opt.zero_grad()\n",
    "        y = y.to(device)\n",
    "        logits = model(x.to(device))\n",
    "        loss = loss_fn(logits, y)\n",
    "        loss.backward()\n",
    "        opt.step()\n",
    "        losses.append(loss.item())\n",
    "        \n",
    "        predicted_labels = logits.argmax(1).cpu().detach().numpy()\n",
    "        train_preds.append( predicted_labels )    \n",
    "        train_labels.append(y)\n",
    "\n",
    "plt.plot(losses)\n",
    "\n",
    "\n",
    "print(\"Train metrics\")\n",
    "train_preds_  = np.concatenate(train_preds, axis=0)\n",
    "train_labels_ = np.concatenate(train_labels, axis=0)\n",
    "calculate_metrix(train_labels_, train_preds_)\n",
    "\n",
    "test_labels = []\n",
    "test_preds = []\n",
    "\n",
    "with torch.no_grad():\n",
    "    for x, y in test_loader:\n",
    "        logits = model(x.to(device))\n",
    "        predicted_labels = logits.argmax(1).cpu().detach().numpy()\n",
    "        test_preds.append(predicted_labels)\n",
    "        test_labels.append(y)\n",
    "\n",
    "print(\"Test metrics\")\n",
    "test_preds_ = np.concatenate(test_preds, axis=0)\n",
    "test_labels_ = np.concatenate(test_labels, axis=0)\n",
    "\n",
    "print(accuracy_score(test_labels_, test_preds_))\n",
    "\n",
    "generate_matplotlib_cm(confusion_matrix(test_labels_, test_preds_), name_dict)\n",
    "\n",
    "\n",
    "calculate_metrix(test_labels_, test_preds_)\n"
   ]
  },
  {
   "cell_type": "markdown",
   "metadata": {
    "id": "YlHYr13fnnEm"
   },
   "source": [
    "as we can see in metrics, making the model more complicated, also improves the accuracy "
   ]
  },
  {
   "cell_type": "markdown",
   "metadata": {
    "id": "R5KvM6lOkG_8"
   },
   "source": [
    "## We can train model longer"
   ]
  },
  {
   "cell_type": "code",
   "execution_count": null,
   "metadata": {
    "colab": {
     "base_uri": "https://localhost:8080/",
     "height": 1000
    },
    "id": "KLL0rOxgkEIf",
    "outputId": "c1e8e52a-63f2-462a-8fd7-db625d685cda"
   },
   "outputs": [],
   "source": [
    "model = MNISTClassifier().to(device)\n",
    "loss_fn = nn.CrossEntropyLoss()\n",
    "opt = torch.optim.Adam(model.parameters())\n",
    "losses = []\n",
    "train_labels = []\n",
    "train_preds = []\n",
    "for e in range(5):\n",
    "    print(e)\n",
    "    for x, y in train_loader:\n",
    "        opt.zero_grad()\n",
    "        y = y.to(device)\n",
    "        logits = model(x.to(device))\n",
    "        loss = loss_fn(logits, y)\n",
    "        loss.backward()\n",
    "        opt.step()\n",
    "        losses.append(loss.item())\n",
    "        \n",
    "        predicted_labels = logits.argmax(1).cpu().detach().numpy()\n",
    "        train_preds.append( predicted_labels )    \n",
    "        train_labels.append(y)\n",
    "\n",
    "plt.plot(losses)\n",
    "\n",
    "\n",
    "print(\"Train metrics\")\n",
    "train_preds_  = np.concatenate(train_preds, axis=0)\n",
    "train_labels_ = np.concatenate(train_labels, axis=0)\n",
    "calculate_metrix(train_labels_, train_preds_)\n",
    "\n",
    "test_labels = []\n",
    "test_preds = []\n",
    "\n",
    "with torch.no_grad():\n",
    "    for x, y in test_loader:\n",
    "        logits = model(x.to(device))\n",
    "        predicted_labels = logits.argmax(1).cpu().detach().numpy()\n",
    "        test_preds.append(predicted_labels)\n",
    "        test_labels.append(y)\n",
    "\n",
    "print(\"Test metrics\")\n",
    "test_preds_ = np.concatenate(test_preds, axis=0)\n",
    "test_labels_ = np.concatenate(test_labels, axis=0)\n",
    "\n",
    "print(accuracy_score(test_labels_, test_preds_))\n",
    "\n",
    "generate_matplotlib_cm(confusion_matrix(test_labels_, test_preds_), name_dict)\n",
    "\n",
    "\n",
    "calculate_metrix(test_labels_, test_preds_)"
   ]
  },
  {
   "cell_type": "code",
   "execution_count": null,
   "metadata": {},
   "outputs": [],
   "source": []
  }
 ],
 "metadata": {
  "accelerator": "GPU",
  "colab": {
   "collapsed_sections": [],
   "name": "Alaksandr_ML_Assignment_Pytorch_v2.ipynb",
   "provenance": []
  },
  "kernelspec": {
   "display_name": "Python 3 (ipykernel)",
   "language": "python",
   "name": "python3"
  },
  "language_info": {
   "codemirror_mode": {
    "name": "ipython",
    "version": 3
   },
   "file_extension": ".py",
   "mimetype": "text/x-python",
   "name": "python",
   "nbconvert_exporter": "python",
   "pygments_lexer": "ipython3",
   "version": "3.9.1"
  },
  "widgets": {
   "application/vnd.jupyter.widget-state+json": {
    "023de64d197241e397d48350309f03db": {
     "model_module": "@jupyter-widgets/base",
     "model_module_version": "1.2.0",
     "model_name": "LayoutModel",
     "state": {
      "_model_module": "@jupyter-widgets/base",
      "_model_module_version": "1.2.0",
      "_model_name": "LayoutModel",
      "_view_count": null,
      "_view_module": "@jupyter-widgets/base",
      "_view_module_version": "1.2.0",
      "_view_name": "LayoutView",
      "align_content": null,
      "align_items": null,
      "align_self": null,
      "border": null,
      "bottom": null,
      "display": null,
      "flex": null,
      "flex_flow": null,
      "grid_area": null,
      "grid_auto_columns": null,
      "grid_auto_flow": null,
      "grid_auto_rows": null,
      "grid_column": null,
      "grid_gap": null,
      "grid_row": null,
      "grid_template_areas": null,
      "grid_template_columns": null,
      "grid_template_rows": null,
      "height": null,
      "justify_content": null,
      "justify_items": null,
      "left": null,
      "margin": null,
      "max_height": null,
      "max_width": null,
      "min_height": null,
      "min_width": null,
      "object_fit": null,
      "object_position": null,
      "order": null,
      "overflow": null,
      "overflow_x": null,
      "overflow_y": null,
      "padding": null,
      "right": null,
      "top": null,
      "visibility": null,
      "width": null
     }
    },
    "0b279c833e4b4562a06bc8e4ea72f32b": {
     "model_module": "@jupyter-widgets/controls",
     "model_module_version": "1.5.0",
     "model_name": "HBoxModel",
     "state": {
      "_dom_classes": [],
      "_model_module": "@jupyter-widgets/controls",
      "_model_module_version": "1.5.0",
      "_model_name": "HBoxModel",
      "_view_count": null,
      "_view_module": "@jupyter-widgets/controls",
      "_view_module_version": "1.5.0",
      "_view_name": "HBoxView",
      "box_style": "",
      "children": [
       "IPY_MODEL_7546fc3fc4e94f5abbfce7b609971aba",
       "IPY_MODEL_a44554991f564c6197d740ae1047ac05",
       "IPY_MODEL_3fdd5d4cb07f45f28c32ff04c900a693"
      ],
      "layout": "IPY_MODEL_0f8ebd846acc43ef91135d3b19ef6e31"
     }
    },
    "0f8ebd846acc43ef91135d3b19ef6e31": {
     "model_module": "@jupyter-widgets/base",
     "model_module_version": "1.2.0",
     "model_name": "LayoutModel",
     "state": {
      "_model_module": "@jupyter-widgets/base",
      "_model_module_version": "1.2.0",
      "_model_name": "LayoutModel",
      "_view_count": null,
      "_view_module": "@jupyter-widgets/base",
      "_view_module_version": "1.2.0",
      "_view_name": "LayoutView",
      "align_content": null,
      "align_items": null,
      "align_self": null,
      "border": null,
      "bottom": null,
      "display": null,
      "flex": null,
      "flex_flow": null,
      "grid_area": null,
      "grid_auto_columns": null,
      "grid_auto_flow": null,
      "grid_auto_rows": null,
      "grid_column": null,
      "grid_gap": null,
      "grid_row": null,
      "grid_template_areas": null,
      "grid_template_columns": null,
      "grid_template_rows": null,
      "height": null,
      "justify_content": null,
      "justify_items": null,
      "left": null,
      "margin": null,
      "max_height": null,
      "max_width": null,
      "min_height": null,
      "min_width": null,
      "object_fit": null,
      "object_position": null,
      "order": null,
      "overflow": null,
      "overflow_x": null,
      "overflow_y": null,
      "padding": null,
      "right": null,
      "top": null,
      "visibility": null,
      "width": null
     }
    },
    "108dbce4a01c479cb39b0488fcf15e5e": {
     "model_module": "@jupyter-widgets/controls",
     "model_module_version": "1.5.0",
     "model_name": "DescriptionStyleModel",
     "state": {
      "_model_module": "@jupyter-widgets/controls",
      "_model_module_version": "1.5.0",
      "_model_name": "DescriptionStyleModel",
      "_view_count": null,
      "_view_module": "@jupyter-widgets/base",
      "_view_module_version": "1.2.0",
      "_view_name": "StyleView",
      "description_width": ""
     }
    },
    "172efa3edf1d4febaffa0fef0dd95075": {
     "model_module": "@jupyter-widgets/controls",
     "model_module_version": "1.5.0",
     "model_name": "DescriptionStyleModel",
     "state": {
      "_model_module": "@jupyter-widgets/controls",
      "_model_module_version": "1.5.0",
      "_model_name": "DescriptionStyleModel",
      "_view_count": null,
      "_view_module": "@jupyter-widgets/base",
      "_view_module_version": "1.2.0",
      "_view_name": "StyleView",
      "description_width": ""
     }
    },
    "1a631e684d594f279ec8b22f75de2d4c": {
     "model_module": "@jupyter-widgets/controls",
     "model_module_version": "1.5.0",
     "model_name": "DescriptionStyleModel",
     "state": {
      "_model_module": "@jupyter-widgets/controls",
      "_model_module_version": "1.5.0",
      "_model_name": "DescriptionStyleModel",
      "_view_count": null,
      "_view_module": "@jupyter-widgets/base",
      "_view_module_version": "1.2.0",
      "_view_name": "StyleView",
      "description_width": ""
     }
    },
    "2c5f0b3d6c374bc49188962052aa7700": {
     "model_module": "@jupyter-widgets/base",
     "model_module_version": "1.2.0",
     "model_name": "LayoutModel",
     "state": {
      "_model_module": "@jupyter-widgets/base",
      "_model_module_version": "1.2.0",
      "_model_name": "LayoutModel",
      "_view_count": null,
      "_view_module": "@jupyter-widgets/base",
      "_view_module_version": "1.2.0",
      "_view_name": "LayoutView",
      "align_content": null,
      "align_items": null,
      "align_self": null,
      "border": null,
      "bottom": null,
      "display": null,
      "flex": null,
      "flex_flow": null,
      "grid_area": null,
      "grid_auto_columns": null,
      "grid_auto_flow": null,
      "grid_auto_rows": null,
      "grid_column": null,
      "grid_gap": null,
      "grid_row": null,
      "grid_template_areas": null,
      "grid_template_columns": null,
      "grid_template_rows": null,
      "height": null,
      "justify_content": null,
      "justify_items": null,
      "left": null,
      "margin": null,
      "max_height": null,
      "max_width": null,
      "min_height": null,
      "min_width": null,
      "object_fit": null,
      "object_position": null,
      "order": null,
      "overflow": null,
      "overflow_x": null,
      "overflow_y": null,
      "padding": null,
      "right": null,
      "top": null,
      "visibility": null,
      "width": null
     }
    },
    "3d6d60f18936455c92d966ddf6397638": {
     "model_module": "@jupyter-widgets/controls",
     "model_module_version": "1.5.0",
     "model_name": "FloatProgressModel",
     "state": {
      "_dom_classes": [],
      "_model_module": "@jupyter-widgets/controls",
      "_model_module_version": "1.5.0",
      "_model_name": "FloatProgressModel",
      "_view_count": null,
      "_view_module": "@jupyter-widgets/controls",
      "_view_module_version": "1.5.0",
      "_view_name": "ProgressView",
      "bar_style": "success",
      "description": "",
      "description_tooltip": null,
      "layout": "IPY_MODEL_85216e3bba634ee6af3e71dbf0360869",
      "max": 9912422,
      "min": 0,
      "orientation": "horizontal",
      "style": "IPY_MODEL_cb0224dda97a4720bd6f1f2428d8f5a1",
      "value": 9912422
     }
    },
    "3fdd5d4cb07f45f28c32ff04c900a693": {
     "model_module": "@jupyter-widgets/controls",
     "model_module_version": "1.5.0",
     "model_name": "HTMLModel",
     "state": {
      "_dom_classes": [],
      "_model_module": "@jupyter-widgets/controls",
      "_model_module_version": "1.5.0",
      "_model_name": "HTMLModel",
      "_view_count": null,
      "_view_module": "@jupyter-widgets/controls",
      "_view_module_version": "1.5.0",
      "_view_name": "HTMLView",
      "description": "",
      "description_tooltip": null,
      "layout": "IPY_MODEL_d25e6ec4cfb6439e839d319ecbabdc52",
      "placeholder": "​",
      "style": "IPY_MODEL_172efa3edf1d4febaffa0fef0dd95075",
      "value": " 5120/? [00:00&lt;00:00, 5869.80it/s]"
     }
    },
    "4020e8fe0ae74771a0526b35ead48fd4": {
     "model_module": "@jupyter-widgets/controls",
     "model_module_version": "1.5.0",
     "model_name": "HTMLModel",
     "state": {
      "_dom_classes": [],
      "_model_module": "@jupyter-widgets/controls",
      "_model_module_version": "1.5.0",
      "_model_name": "HTMLModel",
      "_view_count": null,
      "_view_module": "@jupyter-widgets/controls",
      "_view_module_version": "1.5.0",
      "_view_name": "HTMLView",
      "description": "",
      "description_tooltip": null,
      "layout": "IPY_MODEL_7975b342d2e94e2490fc293cf4e4a5aa",
      "placeholder": "​",
      "style": "IPY_MODEL_990c33f70053431f9cd247b58017d547",
      "value": ""
     }
    },
    "483a7e4109d24f028c398de6b43e2cd1": {
     "model_module": "@jupyter-widgets/controls",
     "model_module_version": "1.5.0",
     "model_name": "ProgressStyleModel",
     "state": {
      "_model_module": "@jupyter-widgets/controls",
      "_model_module_version": "1.5.0",
      "_model_name": "ProgressStyleModel",
      "_view_count": null,
      "_view_module": "@jupyter-widgets/base",
      "_view_module_version": "1.2.0",
      "_view_name": "StyleView",
      "bar_color": null,
      "description_width": ""
     }
    },
    "48a7195ca4684386bd5bbc66ab92aed5": {
     "model_module": "@jupyter-widgets/base",
     "model_module_version": "1.2.0",
     "model_name": "LayoutModel",
     "state": {
      "_model_module": "@jupyter-widgets/base",
      "_model_module_version": "1.2.0",
      "_model_name": "LayoutModel",
      "_view_count": null,
      "_view_module": "@jupyter-widgets/base",
      "_view_module_version": "1.2.0",
      "_view_name": "LayoutView",
      "align_content": null,
      "align_items": null,
      "align_self": null,
      "border": null,
      "bottom": null,
      "display": null,
      "flex": null,
      "flex_flow": null,
      "grid_area": null,
      "grid_auto_columns": null,
      "grid_auto_flow": null,
      "grid_auto_rows": null,
      "grid_column": null,
      "grid_gap": null,
      "grid_row": null,
      "grid_template_areas": null,
      "grid_template_columns": null,
      "grid_template_rows": null,
      "height": null,
      "justify_content": null,
      "justify_items": null,
      "left": null,
      "margin": null,
      "max_height": null,
      "max_width": null,
      "min_height": null,
      "min_width": null,
      "object_fit": null,
      "object_position": null,
      "order": null,
      "overflow": null,
      "overflow_x": null,
      "overflow_y": null,
      "padding": null,
      "right": null,
      "top": null,
      "visibility": null,
      "width": null
     }
    },
    "4d1798cc4e4f4843ac44d5f2a74991ea": {
     "model_module": "@jupyter-widgets/base",
     "model_module_version": "1.2.0",
     "model_name": "LayoutModel",
     "state": {
      "_model_module": "@jupyter-widgets/base",
      "_model_module_version": "1.2.0",
      "_model_name": "LayoutModel",
      "_view_count": null,
      "_view_module": "@jupyter-widgets/base",
      "_view_module_version": "1.2.0",
      "_view_name": "LayoutView",
      "align_content": null,
      "align_items": null,
      "align_self": null,
      "border": null,
      "bottom": null,
      "display": null,
      "flex": null,
      "flex_flow": null,
      "grid_area": null,
      "grid_auto_columns": null,
      "grid_auto_flow": null,
      "grid_auto_rows": null,
      "grid_column": null,
      "grid_gap": null,
      "grid_row": null,
      "grid_template_areas": null,
      "grid_template_columns": null,
      "grid_template_rows": null,
      "height": null,
      "justify_content": null,
      "justify_items": null,
      "left": null,
      "margin": null,
      "max_height": null,
      "max_width": null,
      "min_height": null,
      "min_width": null,
      "object_fit": null,
      "object_position": null,
      "order": null,
      "overflow": null,
      "overflow_x": null,
      "overflow_y": null,
      "padding": null,
      "right": null,
      "top": null,
      "visibility": null,
      "width": null
     }
    },
    "53daa3813fe94ad99ac5224628049beb": {
     "model_module": "@jupyter-widgets/controls",
     "model_module_version": "1.5.0",
     "model_name": "HTMLModel",
     "state": {
      "_dom_classes": [],
      "_model_module": "@jupyter-widgets/controls",
      "_model_module_version": "1.5.0",
      "_model_name": "HTMLModel",
      "_view_count": null,
      "_view_module": "@jupyter-widgets/controls",
      "_view_module_version": "1.5.0",
      "_view_name": "HTMLView",
      "description": "",
      "description_tooltip": null,
      "layout": "IPY_MODEL_48a7195ca4684386bd5bbc66ab92aed5",
      "placeholder": "​",
      "style": "IPY_MODEL_108dbce4a01c479cb39b0488fcf15e5e",
      "value": " 9913344/? [00:00&lt;00:00, 17299080.94it/s]"
     }
    },
    "5e86c8aabeb54163bca8d83737b8d4c7": {
     "model_module": "@jupyter-widgets/controls",
     "model_module_version": "1.5.0",
     "model_name": "HTMLModel",
     "state": {
      "_dom_classes": [],
      "_model_module": "@jupyter-widgets/controls",
      "_model_module_version": "1.5.0",
      "_model_name": "HTMLModel",
      "_view_count": null,
      "_view_module": "@jupyter-widgets/controls",
      "_view_module_version": "1.5.0",
      "_view_name": "HTMLView",
      "description": "",
      "description_tooltip": null,
      "layout": "IPY_MODEL_e6042bbef1584fc09deed5217e3a57fa",
      "placeholder": "​",
      "style": "IPY_MODEL_93b67db2201d42bb9298abe8a56b6ac2",
      "value": " 29696/? [00:00&lt;00:00, 7371.94it/s]"
     }
    },
    "6ffe2cd812294393897d57b5b4b93e43": {
     "model_module": "@jupyter-widgets/base",
     "model_module_version": "1.2.0",
     "model_name": "LayoutModel",
     "state": {
      "_model_module": "@jupyter-widgets/base",
      "_model_module_version": "1.2.0",
      "_model_name": "LayoutModel",
      "_view_count": null,
      "_view_module": "@jupyter-widgets/base",
      "_view_module_version": "1.2.0",
      "_view_name": "LayoutView",
      "align_content": null,
      "align_items": null,
      "align_self": null,
      "border": null,
      "bottom": null,
      "display": null,
      "flex": null,
      "flex_flow": null,
      "grid_area": null,
      "grid_auto_columns": null,
      "grid_auto_flow": null,
      "grid_auto_rows": null,
      "grid_column": null,
      "grid_gap": null,
      "grid_row": null,
      "grid_template_areas": null,
      "grid_template_columns": null,
      "grid_template_rows": null,
      "height": null,
      "justify_content": null,
      "justify_items": null,
      "left": null,
      "margin": null,
      "max_height": null,
      "max_width": null,
      "min_height": null,
      "min_width": null,
      "object_fit": null,
      "object_position": null,
      "order": null,
      "overflow": null,
      "overflow_x": null,
      "overflow_y": null,
      "padding": null,
      "right": null,
      "top": null,
      "visibility": null,
      "width": null
     }
    },
    "7511d5a5d0e04641b996d61f0d722064": {
     "model_module": "@jupyter-widgets/controls",
     "model_module_version": "1.5.0",
     "model_name": "HBoxModel",
     "state": {
      "_dom_classes": [],
      "_model_module": "@jupyter-widgets/controls",
      "_model_module_version": "1.5.0",
      "_model_name": "HBoxModel",
      "_view_count": null,
      "_view_module": "@jupyter-widgets/controls",
      "_view_module_version": "1.5.0",
      "_view_name": "HBoxView",
      "box_style": "",
      "children": [
       "IPY_MODEL_4020e8fe0ae74771a0526b35ead48fd4",
       "IPY_MODEL_addb3f80e0a94477a5492fcbed38053d",
       "IPY_MODEL_5e86c8aabeb54163bca8d83737b8d4c7"
      ],
      "layout": "IPY_MODEL_023de64d197241e397d48350309f03db"
     }
    },
    "7546fc3fc4e94f5abbfce7b609971aba": {
     "model_module": "@jupyter-widgets/controls",
     "model_module_version": "1.5.0",
     "model_name": "HTMLModel",
     "state": {
      "_dom_classes": [],
      "_model_module": "@jupyter-widgets/controls",
      "_model_module_version": "1.5.0",
      "_model_name": "HTMLModel",
      "_view_count": null,
      "_view_module": "@jupyter-widgets/controls",
      "_view_module_version": "1.5.0",
      "_view_name": "HTMLView",
      "description": "",
      "description_tooltip": null,
      "layout": "IPY_MODEL_6ffe2cd812294393897d57b5b4b93e43",
      "placeholder": "​",
      "style": "IPY_MODEL_fbd46aff0a714029892f335f9cfc22b3",
      "value": ""
     }
    },
    "7975b342d2e94e2490fc293cf4e4a5aa": {
     "model_module": "@jupyter-widgets/base",
     "model_module_version": "1.2.0",
     "model_name": "LayoutModel",
     "state": {
      "_model_module": "@jupyter-widgets/base",
      "_model_module_version": "1.2.0",
      "_model_name": "LayoutModel",
      "_view_count": null,
      "_view_module": "@jupyter-widgets/base",
      "_view_module_version": "1.2.0",
      "_view_name": "LayoutView",
      "align_content": null,
      "align_items": null,
      "align_self": null,
      "border": null,
      "bottom": null,
      "display": null,
      "flex": null,
      "flex_flow": null,
      "grid_area": null,
      "grid_auto_columns": null,
      "grid_auto_flow": null,
      "grid_auto_rows": null,
      "grid_column": null,
      "grid_gap": null,
      "grid_row": null,
      "grid_template_areas": null,
      "grid_template_columns": null,
      "grid_template_rows": null,
      "height": null,
      "justify_content": null,
      "justify_items": null,
      "left": null,
      "margin": null,
      "max_height": null,
      "max_width": null,
      "min_height": null,
      "min_width": null,
      "object_fit": null,
      "object_position": null,
      "order": null,
      "overflow": null,
      "overflow_x": null,
      "overflow_y": null,
      "padding": null,
      "right": null,
      "top": null,
      "visibility": null,
      "width": null
     }
    },
    "7bfce70195224c60b739dfafe4d6de6e": {
     "model_module": "@jupyter-widgets/controls",
     "model_module_version": "1.5.0",
     "model_name": "FloatProgressModel",
     "state": {
      "_dom_classes": [],
      "_model_module": "@jupyter-widgets/controls",
      "_model_module_version": "1.5.0",
      "_model_name": "FloatProgressModel",
      "_view_count": null,
      "_view_module": "@jupyter-widgets/controls",
      "_view_module_version": "1.5.0",
      "_view_name": "ProgressView",
      "bar_style": "success",
      "description": "",
      "description_tooltip": null,
      "layout": "IPY_MODEL_9f9f4c88d4e6483d98d18b8afbded09e",
      "max": 1648877,
      "min": 0,
      "orientation": "horizontal",
      "style": "IPY_MODEL_483a7e4109d24f028c398de6b43e2cd1",
      "value": 1648877
     }
    },
    "829f048cf86849419af37b767259c3c8": {
     "model_module": "@jupyter-widgets/controls",
     "model_module_version": "1.5.0",
     "model_name": "HBoxModel",
     "state": {
      "_dom_classes": [],
      "_model_module": "@jupyter-widgets/controls",
      "_model_module_version": "1.5.0",
      "_model_name": "HBoxModel",
      "_view_count": null,
      "_view_module": "@jupyter-widgets/controls",
      "_view_module_version": "1.5.0",
      "_view_name": "HBoxView",
      "box_style": "",
      "children": [
       "IPY_MODEL_8fed161c94b347cfa34075e5257037a0",
       "IPY_MODEL_3d6d60f18936455c92d966ddf6397638",
       "IPY_MODEL_53daa3813fe94ad99ac5224628049beb"
      ],
      "layout": "IPY_MODEL_4d1798cc4e4f4843ac44d5f2a74991ea"
     }
    },
    "85216e3bba634ee6af3e71dbf0360869": {
     "model_module": "@jupyter-widgets/base",
     "model_module_version": "1.2.0",
     "model_name": "LayoutModel",
     "state": {
      "_model_module": "@jupyter-widgets/base",
      "_model_module_version": "1.2.0",
      "_model_name": "LayoutModel",
      "_view_count": null,
      "_view_module": "@jupyter-widgets/base",
      "_view_module_version": "1.2.0",
      "_view_name": "LayoutView",
      "align_content": null,
      "align_items": null,
      "align_self": null,
      "border": null,
      "bottom": null,
      "display": null,
      "flex": null,
      "flex_flow": null,
      "grid_area": null,
      "grid_auto_columns": null,
      "grid_auto_flow": null,
      "grid_auto_rows": null,
      "grid_column": null,
      "grid_gap": null,
      "grid_row": null,
      "grid_template_areas": null,
      "grid_template_columns": null,
      "grid_template_rows": null,
      "height": null,
      "justify_content": null,
      "justify_items": null,
      "left": null,
      "margin": null,
      "max_height": null,
      "max_width": null,
      "min_height": null,
      "min_width": null,
      "object_fit": null,
      "object_position": null,
      "order": null,
      "overflow": null,
      "overflow_x": null,
      "overflow_y": null,
      "padding": null,
      "right": null,
      "top": null,
      "visibility": null,
      "width": null
     }
    },
    "8647b25a39494b68a28521c47fed89c7": {
     "model_module": "@jupyter-widgets/controls",
     "model_module_version": "1.5.0",
     "model_name": "HTMLModel",
     "state": {
      "_dom_classes": [],
      "_model_module": "@jupyter-widgets/controls",
      "_model_module_version": "1.5.0",
      "_model_name": "HTMLModel",
      "_view_count": null,
      "_view_module": "@jupyter-widgets/controls",
      "_view_module_version": "1.5.0",
      "_view_name": "HTMLView",
      "description": "",
      "description_tooltip": null,
      "layout": "IPY_MODEL_d77ee31e691140dba75870e3da9abd1a",
      "placeholder": "​",
      "style": "IPY_MODEL_f1fe6a8990b445dfb0a89e8ccac15efb",
      "value": ""
     }
    },
    "89b8dc7961e24568b82dddfdcbe30b81": {
     "model_module": "@jupyter-widgets/base",
     "model_module_version": "1.2.0",
     "model_name": "LayoutModel",
     "state": {
      "_model_module": "@jupyter-widgets/base",
      "_model_module_version": "1.2.0",
      "_model_name": "LayoutModel",
      "_view_count": null,
      "_view_module": "@jupyter-widgets/base",
      "_view_module_version": "1.2.0",
      "_view_name": "LayoutView",
      "align_content": null,
      "align_items": null,
      "align_self": null,
      "border": null,
      "bottom": null,
      "display": null,
      "flex": null,
      "flex_flow": null,
      "grid_area": null,
      "grid_auto_columns": null,
      "grid_auto_flow": null,
      "grid_auto_rows": null,
      "grid_column": null,
      "grid_gap": null,
      "grid_row": null,
      "grid_template_areas": null,
      "grid_template_columns": null,
      "grid_template_rows": null,
      "height": null,
      "justify_content": null,
      "justify_items": null,
      "left": null,
      "margin": null,
      "max_height": null,
      "max_width": null,
      "min_height": null,
      "min_width": null,
      "object_fit": null,
      "object_position": null,
      "order": null,
      "overflow": null,
      "overflow_x": null,
      "overflow_y": null,
      "padding": null,
      "right": null,
      "top": null,
      "visibility": null,
      "width": null
     }
    },
    "8fed161c94b347cfa34075e5257037a0": {
     "model_module": "@jupyter-widgets/controls",
     "model_module_version": "1.5.0",
     "model_name": "HTMLModel",
     "state": {
      "_dom_classes": [],
      "_model_module": "@jupyter-widgets/controls",
      "_model_module_version": "1.5.0",
      "_model_name": "HTMLModel",
      "_view_count": null,
      "_view_module": "@jupyter-widgets/controls",
      "_view_module_version": "1.5.0",
      "_view_name": "HTMLView",
      "description": "",
      "description_tooltip": null,
      "layout": "IPY_MODEL_2c5f0b3d6c374bc49188962052aa7700",
      "placeholder": "​",
      "style": "IPY_MODEL_ab19c913123a41b68b6781e35f181afe",
      "value": ""
     }
    },
    "93b67db2201d42bb9298abe8a56b6ac2": {
     "model_module": "@jupyter-widgets/controls",
     "model_module_version": "1.5.0",
     "model_name": "DescriptionStyleModel",
     "state": {
      "_model_module": "@jupyter-widgets/controls",
      "_model_module_version": "1.5.0",
      "_model_name": "DescriptionStyleModel",
      "_view_count": null,
      "_view_module": "@jupyter-widgets/base",
      "_view_module_version": "1.2.0",
      "_view_name": "StyleView",
      "description_width": ""
     }
    },
    "990c33f70053431f9cd247b58017d547": {
     "model_module": "@jupyter-widgets/controls",
     "model_module_version": "1.5.0",
     "model_name": "DescriptionStyleModel",
     "state": {
      "_model_module": "@jupyter-widgets/controls",
      "_model_module_version": "1.5.0",
      "_model_name": "DescriptionStyleModel",
      "_view_count": null,
      "_view_module": "@jupyter-widgets/base",
      "_view_module_version": "1.2.0",
      "_view_name": "StyleView",
      "description_width": ""
     }
    },
    "9f9f4c88d4e6483d98d18b8afbded09e": {
     "model_module": "@jupyter-widgets/base",
     "model_module_version": "1.2.0",
     "model_name": "LayoutModel",
     "state": {
      "_model_module": "@jupyter-widgets/base",
      "_model_module_version": "1.2.0",
      "_model_name": "LayoutModel",
      "_view_count": null,
      "_view_module": "@jupyter-widgets/base",
      "_view_module_version": "1.2.0",
      "_view_name": "LayoutView",
      "align_content": null,
      "align_items": null,
      "align_self": null,
      "border": null,
      "bottom": null,
      "display": null,
      "flex": null,
      "flex_flow": null,
      "grid_area": null,
      "grid_auto_columns": null,
      "grid_auto_flow": null,
      "grid_auto_rows": null,
      "grid_column": null,
      "grid_gap": null,
      "grid_row": null,
      "grid_template_areas": null,
      "grid_template_columns": null,
      "grid_template_rows": null,
      "height": null,
      "justify_content": null,
      "justify_items": null,
      "left": null,
      "margin": null,
      "max_height": null,
      "max_width": null,
      "min_height": null,
      "min_width": null,
      "object_fit": null,
      "object_position": null,
      "order": null,
      "overflow": null,
      "overflow_x": null,
      "overflow_y": null,
      "padding": null,
      "right": null,
      "top": null,
      "visibility": null,
      "width": null
     }
    },
    "a44554991f564c6197d740ae1047ac05": {
     "model_module": "@jupyter-widgets/controls",
     "model_module_version": "1.5.0",
     "model_name": "FloatProgressModel",
     "state": {
      "_dom_classes": [],
      "_model_module": "@jupyter-widgets/controls",
      "_model_module_version": "1.5.0",
      "_model_name": "FloatProgressModel",
      "_view_count": null,
      "_view_module": "@jupyter-widgets/controls",
      "_view_module_version": "1.5.0",
      "_view_name": "ProgressView",
      "bar_style": "success",
      "description": "",
      "description_tooltip": null,
      "layout": "IPY_MODEL_e5a951b502374c89ac147d8b652d6ef4",
      "max": 4542,
      "min": 0,
      "orientation": "horizontal",
      "style": "IPY_MODEL_ddd72b2f4acf483ca6990cad47d6d4b0",
      "value": 4542
     }
    },
    "a952b4bd817c458a9f7953d1ece4bf62": {
     "model_module": "@jupyter-widgets/controls",
     "model_module_version": "1.5.0",
     "model_name": "HTMLModel",
     "state": {
      "_dom_classes": [],
      "_model_module": "@jupyter-widgets/controls",
      "_model_module_version": "1.5.0",
      "_model_name": "HTMLModel",
      "_view_count": null,
      "_view_module": "@jupyter-widgets/controls",
      "_view_module_version": "1.5.0",
      "_view_name": "HTMLView",
      "description": "",
      "description_tooltip": null,
      "layout": "IPY_MODEL_cb8068cda5df4be99e40c2965d84092c",
      "placeholder": "​",
      "style": "IPY_MODEL_1a631e684d594f279ec8b22f75de2d4c",
      "value": " 1649664/? [00:00&lt;00:00, 5001155.47it/s]"
     }
    },
    "ab19c913123a41b68b6781e35f181afe": {
     "model_module": "@jupyter-widgets/controls",
     "model_module_version": "1.5.0",
     "model_name": "DescriptionStyleModel",
     "state": {
      "_model_module": "@jupyter-widgets/controls",
      "_model_module_version": "1.5.0",
      "_model_name": "DescriptionStyleModel",
      "_view_count": null,
      "_view_module": "@jupyter-widgets/base",
      "_view_module_version": "1.2.0",
      "_view_name": "StyleView",
      "description_width": ""
     }
    },
    "addb3f80e0a94477a5492fcbed38053d": {
     "model_module": "@jupyter-widgets/controls",
     "model_module_version": "1.5.0",
     "model_name": "FloatProgressModel",
     "state": {
      "_dom_classes": [],
      "_model_module": "@jupyter-widgets/controls",
      "_model_module_version": "1.5.0",
      "_model_name": "FloatProgressModel",
      "_view_count": null,
      "_view_module": "@jupyter-widgets/controls",
      "_view_module_version": "1.5.0",
      "_view_name": "ProgressView",
      "bar_style": "success",
      "description": "",
      "description_tooltip": null,
      "layout": "IPY_MODEL_89b8dc7961e24568b82dddfdcbe30b81",
      "max": 28881,
      "min": 0,
      "orientation": "horizontal",
      "style": "IPY_MODEL_c4f9eaefe24246678790a3cdcf5739b2",
      "value": 28881
     }
    },
    "b63efa349a5f4ac7865b3ce398e1e6ab": {
     "model_module": "@jupyter-widgets/controls",
     "model_module_version": "1.5.0",
     "model_name": "HBoxModel",
     "state": {
      "_dom_classes": [],
      "_model_module": "@jupyter-widgets/controls",
      "_model_module_version": "1.5.0",
      "_model_name": "HBoxModel",
      "_view_count": null,
      "_view_module": "@jupyter-widgets/controls",
      "_view_module_version": "1.5.0",
      "_view_name": "HBoxView",
      "box_style": "",
      "children": [
       "IPY_MODEL_8647b25a39494b68a28521c47fed89c7",
       "IPY_MODEL_7bfce70195224c60b739dfafe4d6de6e",
       "IPY_MODEL_a952b4bd817c458a9f7953d1ece4bf62"
      ],
      "layout": "IPY_MODEL_ebdc86f6f9734d6db0dafd0c9418eb19"
     }
    },
    "c4f9eaefe24246678790a3cdcf5739b2": {
     "model_module": "@jupyter-widgets/controls",
     "model_module_version": "1.5.0",
     "model_name": "ProgressStyleModel",
     "state": {
      "_model_module": "@jupyter-widgets/controls",
      "_model_module_version": "1.5.0",
      "_model_name": "ProgressStyleModel",
      "_view_count": null,
      "_view_module": "@jupyter-widgets/base",
      "_view_module_version": "1.2.0",
      "_view_name": "StyleView",
      "bar_color": null,
      "description_width": ""
     }
    },
    "cb0224dda97a4720bd6f1f2428d8f5a1": {
     "model_module": "@jupyter-widgets/controls",
     "model_module_version": "1.5.0",
     "model_name": "ProgressStyleModel",
     "state": {
      "_model_module": "@jupyter-widgets/controls",
      "_model_module_version": "1.5.0",
      "_model_name": "ProgressStyleModel",
      "_view_count": null,
      "_view_module": "@jupyter-widgets/base",
      "_view_module_version": "1.2.0",
      "_view_name": "StyleView",
      "bar_color": null,
      "description_width": ""
     }
    },
    "cb8068cda5df4be99e40c2965d84092c": {
     "model_module": "@jupyter-widgets/base",
     "model_module_version": "1.2.0",
     "model_name": "LayoutModel",
     "state": {
      "_model_module": "@jupyter-widgets/base",
      "_model_module_version": "1.2.0",
      "_model_name": "LayoutModel",
      "_view_count": null,
      "_view_module": "@jupyter-widgets/base",
      "_view_module_version": "1.2.0",
      "_view_name": "LayoutView",
      "align_content": null,
      "align_items": null,
      "align_self": null,
      "border": null,
      "bottom": null,
      "display": null,
      "flex": null,
      "flex_flow": null,
      "grid_area": null,
      "grid_auto_columns": null,
      "grid_auto_flow": null,
      "grid_auto_rows": null,
      "grid_column": null,
      "grid_gap": null,
      "grid_row": null,
      "grid_template_areas": null,
      "grid_template_columns": null,
      "grid_template_rows": null,
      "height": null,
      "justify_content": null,
      "justify_items": null,
      "left": null,
      "margin": null,
      "max_height": null,
      "max_width": null,
      "min_height": null,
      "min_width": null,
      "object_fit": null,
      "object_position": null,
      "order": null,
      "overflow": null,
      "overflow_x": null,
      "overflow_y": null,
      "padding": null,
      "right": null,
      "top": null,
      "visibility": null,
      "width": null
     }
    },
    "d25e6ec4cfb6439e839d319ecbabdc52": {
     "model_module": "@jupyter-widgets/base",
     "model_module_version": "1.2.0",
     "model_name": "LayoutModel",
     "state": {
      "_model_module": "@jupyter-widgets/base",
      "_model_module_version": "1.2.0",
      "_model_name": "LayoutModel",
      "_view_count": null,
      "_view_module": "@jupyter-widgets/base",
      "_view_module_version": "1.2.0",
      "_view_name": "LayoutView",
      "align_content": null,
      "align_items": null,
      "align_self": null,
      "border": null,
      "bottom": null,
      "display": null,
      "flex": null,
      "flex_flow": null,
      "grid_area": null,
      "grid_auto_columns": null,
      "grid_auto_flow": null,
      "grid_auto_rows": null,
      "grid_column": null,
      "grid_gap": null,
      "grid_row": null,
      "grid_template_areas": null,
      "grid_template_columns": null,
      "grid_template_rows": null,
      "height": null,
      "justify_content": null,
      "justify_items": null,
      "left": null,
      "margin": null,
      "max_height": null,
      "max_width": null,
      "min_height": null,
      "min_width": null,
      "object_fit": null,
      "object_position": null,
      "order": null,
      "overflow": null,
      "overflow_x": null,
      "overflow_y": null,
      "padding": null,
      "right": null,
      "top": null,
      "visibility": null,
      "width": null
     }
    },
    "d77ee31e691140dba75870e3da9abd1a": {
     "model_module": "@jupyter-widgets/base",
     "model_module_version": "1.2.0",
     "model_name": "LayoutModel",
     "state": {
      "_model_module": "@jupyter-widgets/base",
      "_model_module_version": "1.2.0",
      "_model_name": "LayoutModel",
      "_view_count": null,
      "_view_module": "@jupyter-widgets/base",
      "_view_module_version": "1.2.0",
      "_view_name": "LayoutView",
      "align_content": null,
      "align_items": null,
      "align_self": null,
      "border": null,
      "bottom": null,
      "display": null,
      "flex": null,
      "flex_flow": null,
      "grid_area": null,
      "grid_auto_columns": null,
      "grid_auto_flow": null,
      "grid_auto_rows": null,
      "grid_column": null,
      "grid_gap": null,
      "grid_row": null,
      "grid_template_areas": null,
      "grid_template_columns": null,
      "grid_template_rows": null,
      "height": null,
      "justify_content": null,
      "justify_items": null,
      "left": null,
      "margin": null,
      "max_height": null,
      "max_width": null,
      "min_height": null,
      "min_width": null,
      "object_fit": null,
      "object_position": null,
      "order": null,
      "overflow": null,
      "overflow_x": null,
      "overflow_y": null,
      "padding": null,
      "right": null,
      "top": null,
      "visibility": null,
      "width": null
     }
    },
    "ddd72b2f4acf483ca6990cad47d6d4b0": {
     "model_module": "@jupyter-widgets/controls",
     "model_module_version": "1.5.0",
     "model_name": "ProgressStyleModel",
     "state": {
      "_model_module": "@jupyter-widgets/controls",
      "_model_module_version": "1.5.0",
      "_model_name": "ProgressStyleModel",
      "_view_count": null,
      "_view_module": "@jupyter-widgets/base",
      "_view_module_version": "1.2.0",
      "_view_name": "StyleView",
      "bar_color": null,
      "description_width": ""
     }
    },
    "e5a951b502374c89ac147d8b652d6ef4": {
     "model_module": "@jupyter-widgets/base",
     "model_module_version": "1.2.0",
     "model_name": "LayoutModel",
     "state": {
      "_model_module": "@jupyter-widgets/base",
      "_model_module_version": "1.2.0",
      "_model_name": "LayoutModel",
      "_view_count": null,
      "_view_module": "@jupyter-widgets/base",
      "_view_module_version": "1.2.0",
      "_view_name": "LayoutView",
      "align_content": null,
      "align_items": null,
      "align_self": null,
      "border": null,
      "bottom": null,
      "display": null,
      "flex": null,
      "flex_flow": null,
      "grid_area": null,
      "grid_auto_columns": null,
      "grid_auto_flow": null,
      "grid_auto_rows": null,
      "grid_column": null,
      "grid_gap": null,
      "grid_row": null,
      "grid_template_areas": null,
      "grid_template_columns": null,
      "grid_template_rows": null,
      "height": null,
      "justify_content": null,
      "justify_items": null,
      "left": null,
      "margin": null,
      "max_height": null,
      "max_width": null,
      "min_height": null,
      "min_width": null,
      "object_fit": null,
      "object_position": null,
      "order": null,
      "overflow": null,
      "overflow_x": null,
      "overflow_y": null,
      "padding": null,
      "right": null,
      "top": null,
      "visibility": null,
      "width": null
     }
    },
    "e6042bbef1584fc09deed5217e3a57fa": {
     "model_module": "@jupyter-widgets/base",
     "model_module_version": "1.2.0",
     "model_name": "LayoutModel",
     "state": {
      "_model_module": "@jupyter-widgets/base",
      "_model_module_version": "1.2.0",
      "_model_name": "LayoutModel",
      "_view_count": null,
      "_view_module": "@jupyter-widgets/base",
      "_view_module_version": "1.2.0",
      "_view_name": "LayoutView",
      "align_content": null,
      "align_items": null,
      "align_self": null,
      "border": null,
      "bottom": null,
      "display": null,
      "flex": null,
      "flex_flow": null,
      "grid_area": null,
      "grid_auto_columns": null,
      "grid_auto_flow": null,
      "grid_auto_rows": null,
      "grid_column": null,
      "grid_gap": null,
      "grid_row": null,
      "grid_template_areas": null,
      "grid_template_columns": null,
      "grid_template_rows": null,
      "height": null,
      "justify_content": null,
      "justify_items": null,
      "left": null,
      "margin": null,
      "max_height": null,
      "max_width": null,
      "min_height": null,
      "min_width": null,
      "object_fit": null,
      "object_position": null,
      "order": null,
      "overflow": null,
      "overflow_x": null,
      "overflow_y": null,
      "padding": null,
      "right": null,
      "top": null,
      "visibility": null,
      "width": null
     }
    },
    "ebdc86f6f9734d6db0dafd0c9418eb19": {
     "model_module": "@jupyter-widgets/base",
     "model_module_version": "1.2.0",
     "model_name": "LayoutModel",
     "state": {
      "_model_module": "@jupyter-widgets/base",
      "_model_module_version": "1.2.0",
      "_model_name": "LayoutModel",
      "_view_count": null,
      "_view_module": "@jupyter-widgets/base",
      "_view_module_version": "1.2.0",
      "_view_name": "LayoutView",
      "align_content": null,
      "align_items": null,
      "align_self": null,
      "border": null,
      "bottom": null,
      "display": null,
      "flex": null,
      "flex_flow": null,
      "grid_area": null,
      "grid_auto_columns": null,
      "grid_auto_flow": null,
      "grid_auto_rows": null,
      "grid_column": null,
      "grid_gap": null,
      "grid_row": null,
      "grid_template_areas": null,
      "grid_template_columns": null,
      "grid_template_rows": null,
      "height": null,
      "justify_content": null,
      "justify_items": null,
      "left": null,
      "margin": null,
      "max_height": null,
      "max_width": null,
      "min_height": null,
      "min_width": null,
      "object_fit": null,
      "object_position": null,
      "order": null,
      "overflow": null,
      "overflow_x": null,
      "overflow_y": null,
      "padding": null,
      "right": null,
      "top": null,
      "visibility": null,
      "width": null
     }
    },
    "f1fe6a8990b445dfb0a89e8ccac15efb": {
     "model_module": "@jupyter-widgets/controls",
     "model_module_version": "1.5.0",
     "model_name": "DescriptionStyleModel",
     "state": {
      "_model_module": "@jupyter-widgets/controls",
      "_model_module_version": "1.5.0",
      "_model_name": "DescriptionStyleModel",
      "_view_count": null,
      "_view_module": "@jupyter-widgets/base",
      "_view_module_version": "1.2.0",
      "_view_name": "StyleView",
      "description_width": ""
     }
    },
    "fbd46aff0a714029892f335f9cfc22b3": {
     "model_module": "@jupyter-widgets/controls",
     "model_module_version": "1.5.0",
     "model_name": "DescriptionStyleModel",
     "state": {
      "_model_module": "@jupyter-widgets/controls",
      "_model_module_version": "1.5.0",
      "_model_name": "DescriptionStyleModel",
      "_view_count": null,
      "_view_module": "@jupyter-widgets/base",
      "_view_module_version": "1.2.0",
      "_view_name": "StyleView",
      "description_width": ""
     }
    }
   }
  }
 },
 "nbformat": 4,
 "nbformat_minor": 1
}
